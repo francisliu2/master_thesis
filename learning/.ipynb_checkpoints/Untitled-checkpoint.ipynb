{
 "cells": [
  {
   "cell_type": "markdown",
   "metadata": {},
   "source": [
    "# CNN"
   ]
  },
  {
   "cell_type": "markdown",
   "metadata": {},
   "source": [
    "## Edge Detection\n",
    "\n",
    "A martix filter (Kernal) convolve (notation *) the image. Place filter on top of the image, take elementwise product, and take the sum of those numbers. And do the same one step to the right pixel.  \n",
    "\n",
    "Python: Conv-forward, tf.nn.conv2d\n",
    "\n",
    "why_conv_can_detect_edges\n",
    "![title](img/why_conv_can_detect_edges.jpg)\n",
    "\n",
    "Light to Dark Edges with vertical give you positive numbers\n",
    "Dark to Light Edge convolved by vertical filter will give you negative numbers\n",
    "\n",
    "Example filters: Sobel Filter, Scharr Filter\n",
    "\n",
    "Learn filter by backpropagation "
   ]
  },
  {
   "cell_type": "markdown",
   "metadata": {},
   "source": [
    "## Padding\n",
    "<b>Without Padding<b\\>\n",
    "NxN image * FxF filter --> N-F+1xN-F+1 output\n",
    "\n",
    "shrinking output --> throwing away info from edge\n",
    "\n",
    "<b>With Padding<b/>\n",
    "N+2PxN+2P image * FxF filter --> N+2P-F+1xN+2P-F+1 output--> NxN output\n",
    "    \n",
    "    \n",
    "    \"Valid convolution\" --> no padding\n",
    "    \"Same convolution\" --> with padding\n",
    "\n",
    "\n",
    "\n",
    "\n",
    "\n",
    "\n"
   ]
  }
 ],
 "metadata": {
  "kernelspec": {
   "display_name": "Python 3",
   "language": "python",
   "name": "python3"
  },
  "language_info": {
   "codemirror_mode": {
    "name": "ipython",
    "version": 3
   },
   "file_extension": ".py",
   "mimetype": "text/x-python",
   "name": "python",
   "nbconvert_exporter": "python",
   "pygments_lexer": "ipython3",
   "version": "3.6.6"
  },
  "latex_envs": {
   "LaTeX_envs_menu_present": true,
   "autoclose": false,
   "autocomplete": true,
   "bibliofile": "biblio.bib",
   "cite_by": "apalike",
   "current_citInitial": 1,
   "eqLabelWithNumbers": true,
   "eqNumInitial": 1,
   "hotkeys": {
    "equation": "Ctrl-E",
    "itemize": "Ctrl-I"
   },
   "labels_anchors": false,
   "latex_user_defs": false,
   "report_style_numbering": false,
   "user_envs_cfg": false
  }
 },
 "nbformat": 4,
 "nbformat_minor": 2
}
