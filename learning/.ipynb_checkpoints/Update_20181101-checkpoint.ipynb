{
 "cells": [
  {
   "cell_type": "markdown",
   "metadata": {},
   "source": [
    "<div style=\"text-align: center;\"> <span style=\"font-size: 16pt;\">**A Deep Reinforcement Learning Agent Using Multiple <br> Asset Financial Signals for Portfolio Management** <br> Update </div>\n",
    "Date: 1<sup>st</sup> Nov 2018 <br>\n",
    "Prepared by: Liu Francis\n"
   ]
  },
  {
   "cell_type": "markdown",
   "metadata": {},
   "source": [
    "**Current Status** <br>\n",
    "Reading and Learning \n",
    "1. Coursera: <br>\n",
    "Practical Reinforcement Learning - Contains latest practice and paper in the area of RL (2018 papers are included) (working on) <br>\n",
    "Reinforcement Learning in Finance - it is too hard. Jump to relevent parts. <br>\n",
    "CNN by Andrew Ng - Done <br>\n",
    "LSTM by Andrew Ng - On going\n",
    "\n",
    "2. Papers: <br>\n",
    "6 most relevent papers - Reading them for the second to third times\n",
    "One newly published paper (peer reviewed) did things very similar\n",
    "\n",
    "3. Books: <br>\n",
    "List of 5, Not yet started; Topics: RL, risk management, and finance in general\n",
    "\n",
    "Artifacts\n",
    "1. Get stock and crytocurrency price data (done) <br>\n",
    "Codes for retreiving and cleaning are done. <br>\n",
    "Currently using Intraday data, with channels open high low close <br>\n",
    "<a style=\"color:red\">Should I also simulate prices data artificially? I assume that prices follow Geometric Brownian Motion, which the model is widely used by financial engineer. </a> \n",
    "2. Create simple neural network model for price prediction (done)\n",
    "3. Create environment (on-going)\n",
    "4. Create agent and train against environment (to be done)\n",
    "5. Optimize hyperparameters (to be done)\n",
    "6. Observed what has been learned by the agent (to be done)\n",
    "7. Back test against performance of human portfolio managers (to be done)\n",
    "\n",
    "Writing\n",
    "1. Read papers about reinforcment learning (on-going)\n",
    "2. Read papers specifically about reinforcement learning on finance (done)\n",
    "3. Read papers about protfolio management (on going)\n",
    "4. Write literature review (on going)\n",
    "5. Write results (to be done)"
   ]
  },
  {
   "cell_type": "markdown",
   "metadata": {},
   "source": []
  }
 ],
 "metadata": {
  "kernelspec": {
   "display_name": "Python 3",
   "language": "python",
   "name": "python3"
  },
  "language_info": {
   "codemirror_mode": {
    "name": "ipython",
    "version": 3
   },
   "file_extension": ".py",
   "mimetype": "text/x-python",
   "name": "python",
   "nbconvert_exporter": "python",
   "pygments_lexer": "ipython3",
   "version": "3.6.6"
  },
  "latex_envs": {
   "LaTeX_envs_menu_present": true,
   "autoclose": false,
   "autocomplete": true,
   "bibliofile": "biblio.bib",
   "cite_by": "apalike",
   "current_citInitial": 1,
   "eqLabelWithNumbers": true,
   "eqNumInitial": 1,
   "hotkeys": {
    "equation": "Ctrl-E",
    "itemize": "Ctrl-I"
   },
   "labels_anchors": false,
   "latex_user_defs": false,
   "report_style_numbering": false,
   "user_envs_cfg": false
  }
 },
 "nbformat": 4,
 "nbformat_minor": 2
}
