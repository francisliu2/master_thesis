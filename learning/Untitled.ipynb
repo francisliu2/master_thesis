{
 "cells": [
  {
   "cell_type": "markdown",
   "metadata": {},
   "source": [
    "# CNN"
   ]
  },
  {
   "cell_type": "markdown",
   "metadata": {},
   "source": [
    "## Edge Detection\n",
    "\n",
    "A martix filter (Kernal) convolve (notation *) the image. Place filter on top of the image, take elementwise product, and take the sum of those numbers. And do the same one step to the right pixel.  \n",
    "\n",
    "Python: Conv-forward, tf.nn.conv2d\n",
    "\n",
    "why_conv_can_detect_edges\n",
    "![title](img/why_conv_can_detect_edges.jpg)\n",
    "\n",
    "Light to Dark Edges with vertical give you positive numbers\n",
    "Dark to Light Edge convolved by vertical filter will give you negative numbers\n",
    "\n",
    "Example filters: Sobel Filter, Scharr Filter\n",
    "\n",
    "Learn filter by backpropagation "
   ]
  },
  {
   "cell_type": "markdown",
   "metadata": {},
   "source": [
    "## Padding\n",
    "<b>Without Padding</b> <br>\n",
    "NxN image * FxF filter --> N-F+1xN-F+1 output\n",
    "\n",
    "shrinking output --> throwing away info from edge\n",
    "\n",
    "<b>With Padding</b> <br>\n",
    "N+2PxN+2P image * FxF filter --> N+2P-F+1xN+2P-F+1 output--> NxN output\n",
    "   \n",
    "    \n",
    "\"Valid convolution\" --> Without padding padding <br>\n",
    "\"Same convolution\" --> With padding (keep input and output size same)\n",
    "\n",
    "f are usually odd number --> have center \n",
    "\n",
    "\n",
    "\n",
    "\n",
    "\n"
   ]
  },
  {
   "cell_type": "markdown",
   "metadata": {},
   "source": [
    "## Strided Convolution\n",
    "\n",
    "stride --> number of pixel skip every step\n",
    "\n",
    "<b>With Padding P=1, and With strides S=2</b> <br>\n",
    "NxN image * FxF filter --> rounddown(N+2P-F+1/SxN+2P-F/S+1) output\n",
    "rounddown(z) --> floor(z)\n",
    "\n",
    "Cross-correlation is simlar to convolution operator, but math more convenient. (For neural network, it dosen't matter)\n",
    "![title](img/cross_correlation.jpg)\n",
    "\n"
   ]
  },
  {
   "cell_type": "markdown",
   "metadata": {},
   "source": [
    "## Convolutions Over Volume\n",
    "\n",
    "filter is now 3D\n",
    "\n",
    "\n",
    "<b>Without Padding</b> <br>\n",
    "When convoluting volumn, the depth dimension will be lost. \n",
    "![title](img/conv_RGB_img.jpg)\n",
    "\n",
    "\n",
    "<b>Mulitple Filters</b> <br>\n",
    "Stacking up output of multiple filters\n",
    "![title](img/multiple_filters.jpg)\n",
    "\n",
    "\n",
    "\n",
    "\n"
   ]
  },
  {
   "cell_type": "markdown",
   "metadata": {},
   "source": [
    "## One layer Convolutional Network\n",
    "\n",
    "\n",
    "\n",
    "example__CNN_layer.jpg \n",
    "\n",
    "\n",
    "number_of_parameters_in_a_layer\n",
    "No matter how big the image is, same number of parameters will be in a layer. It prevents overfitting.  \n",
    "\n",
    "?Activation?\n"
   ]
  },
  {
   "cell_type": "markdown",
   "metadata": {},
   "source": [
    "## Pooling\n",
    "\n",
    "Reduce the size\n",
    "\n",
    "Max pooling, lots of eperience works well, so everyone are using it. \n",
    "\n",
    "No parameters to learn\n",
    "\n",
    "Formula for pooling output size is same as ConV layer\n",
    "\n",
    "Channel by Channel\n",
    "\n",
    "Average pooling --> collapse feature\n",
    "\n",
    "<b>Hyperparameters</b> <br>\n",
    "f, s, max/avg pooling, p(rare case, it usually is 0)\n",
    "\n"
   ]
  },
  {
   "cell_type": "markdown",
   "metadata": {},
   "source": [
    "## Why Concolutions?\n",
    "\n",
    "1. Parameter sharing - Reduce parameters to train (Conv's parameters is determined by size of filter and number of channels)\n",
    "\n",
    "2. Sparsity of connections\n",
    "\n",
    "Robust\n",
    "Translation Invariance\n",
    "\n"
   ]
  },
  {
   "cell_type": "code",
   "execution_count": 6,
   "metadata": {},
   "outputs": [
    {
     "name": "stdout",
     "output_type": "stream",
     "text": [
      "vert_start = 0 vert_end = 3 horiz_start = 0 horiz_end = 3\n",
      "vert_start = 0 vert_end = 3 horiz_start = 0 horiz_end = 3\n",
      "vert_start = 0 vert_end = 3 horiz_start = 0 horiz_end = 3\n",
      "vert_start = 0 vert_end = 3 horiz_start = 2 horiz_end = 5\n",
      "vert_start = 0 vert_end = 3 horiz_start = 2 horiz_end = 5\n",
      "vert_start = 0 vert_end = 3 horiz_start = 2 horiz_end = 5\n",
      "vert_start = 0 vert_end = 3 horiz_start = 4 horiz_end = 7\n",
      "vert_start = 0 vert_end = 3 horiz_start = 4 horiz_end = 7\n",
      "vert_start = 0 vert_end = 3 horiz_start = 4 horiz_end = 7\n",
      "vert_start = 0 vert_end = 3 horiz_start = 6 horiz_end = 9\n",
      "vert_start = 0 vert_end = 3 horiz_start = 6 horiz_end = 9\n",
      "vert_start = 0 vert_end = 3 horiz_start = 6 horiz_end = 9\n",
      "vert_start = 0 vert_end = 3 horiz_start = 8 horiz_end = 11\n",
      "vert_start = 0 vert_end = 3 horiz_start = 8 horiz_end = 11\n",
      "vert_start = 0 vert_end = 3 horiz_start = 8 horiz_end = 11\n",
      "vert_start = 2 vert_end = 5 horiz_start = 0 horiz_end = 3\n",
      "vert_start = 2 vert_end = 5 horiz_start = 0 horiz_end = 3\n",
      "vert_start = 2 vert_end = 5 horiz_start = 0 horiz_end = 3\n",
      "vert_start = 2 vert_end = 5 horiz_start = 2 horiz_end = 5\n",
      "vert_start = 2 vert_end = 5 horiz_start = 2 horiz_end = 5\n",
      "vert_start = 2 vert_end = 5 horiz_start = 2 horiz_end = 5\n",
      "vert_start = 2 vert_end = 5 horiz_start = 4 horiz_end = 7\n",
      "vert_start = 2 vert_end = 5 horiz_start = 4 horiz_end = 7\n",
      "vert_start = 2 vert_end = 5 horiz_start = 4 horiz_end = 7\n",
      "vert_start = 2 vert_end = 5 horiz_start = 6 horiz_end = 9\n",
      "vert_start = 2 vert_end = 5 horiz_start = 6 horiz_end = 9\n",
      "vert_start = 2 vert_end = 5 horiz_start = 6 horiz_end = 9\n",
      "vert_start = 2 vert_end = 5 horiz_start = 8 horiz_end = 11\n",
      "vert_start = 2 vert_end = 5 horiz_start = 8 horiz_end = 11\n",
      "vert_start = 2 vert_end = 5 horiz_start = 8 horiz_end = 11\n",
      "vert_start = 4 vert_end = 7 horiz_start = 0 horiz_end = 3\n",
      "vert_start = 4 vert_end = 7 horiz_start = 0 horiz_end = 3\n",
      "vert_start = 4 vert_end = 7 horiz_start = 0 horiz_end = 3\n",
      "vert_start = 4 vert_end = 7 horiz_start = 2 horiz_end = 5\n",
      "vert_start = 4 vert_end = 7 horiz_start = 2 horiz_end = 5\n",
      "vert_start = 4 vert_end = 7 horiz_start = 2 horiz_end = 5\n",
      "vert_start = 4 vert_end = 7 horiz_start = 4 horiz_end = 7\n",
      "vert_start = 4 vert_end = 7 horiz_start = 4 horiz_end = 7\n",
      "vert_start = 4 vert_end = 7 horiz_start = 4 horiz_end = 7\n",
      "vert_start = 4 vert_end = 7 horiz_start = 6 horiz_end = 9\n",
      "vert_start = 4 vert_end = 7 horiz_start = 6 horiz_end = 9\n",
      "vert_start = 4 vert_end = 7 horiz_start = 6 horiz_end = 9\n",
      "vert_start = 4 vert_end = 7 horiz_start = 8 horiz_end = 11\n",
      "vert_start = 4 vert_end = 7 horiz_start = 8 horiz_end = 11\n",
      "vert_start = 4 vert_end = 7 horiz_start = 8 horiz_end = 11\n",
      "vert_start = 6 vert_end = 9 horiz_start = 0 horiz_end = 3\n",
      "vert_start = 6 vert_end = 9 horiz_start = 0 horiz_end = 3\n",
      "vert_start = 6 vert_end = 9 horiz_start = 0 horiz_end = 3\n",
      "vert_start = 6 vert_end = 9 horiz_start = 2 horiz_end = 5\n",
      "vert_start = 6 vert_end = 9 horiz_start = 2 horiz_end = 5\n",
      "vert_start = 6 vert_end = 9 horiz_start = 2 horiz_end = 5\n",
      "vert_start = 6 vert_end = 9 horiz_start = 4 horiz_end = 7\n",
      "vert_start = 6 vert_end = 9 horiz_start = 4 horiz_end = 7\n",
      "vert_start = 6 vert_end = 9 horiz_start = 4 horiz_end = 7\n",
      "vert_start = 6 vert_end = 9 horiz_start = 6 horiz_end = 9\n",
      "vert_start = 6 vert_end = 9 horiz_start = 6 horiz_end = 9\n",
      "vert_start = 6 vert_end = 9 horiz_start = 6 horiz_end = 9\n",
      "vert_start = 6 vert_end = 9 horiz_start = 8 horiz_end = 11\n",
      "vert_start = 6 vert_end = 9 horiz_start = 8 horiz_end = 11\n",
      "vert_start = 6 vert_end = 9 horiz_start = 8 horiz_end = 11\n",
      "vert_start = 8 vert_end = 11 horiz_start = 0 horiz_end = 3\n",
      "vert_start = 8 vert_end = 11 horiz_start = 0 horiz_end = 3\n",
      "vert_start = 8 vert_end = 11 horiz_start = 0 horiz_end = 3\n",
      "vert_start = 8 vert_end = 11 horiz_start = 2 horiz_end = 5\n",
      "vert_start = 8 vert_end = 11 horiz_start = 2 horiz_end = 5\n",
      "vert_start = 8 vert_end = 11 horiz_start = 2 horiz_end = 5\n",
      "vert_start = 8 vert_end = 11 horiz_start = 4 horiz_end = 7\n",
      "vert_start = 8 vert_end = 11 horiz_start = 4 horiz_end = 7\n",
      "vert_start = 8 vert_end = 11 horiz_start = 4 horiz_end = 7\n",
      "vert_start = 8 vert_end = 11 horiz_start = 6 horiz_end = 9\n",
      "vert_start = 8 vert_end = 11 horiz_start = 6 horiz_end = 9\n",
      "vert_start = 8 vert_end = 11 horiz_start = 6 horiz_end = 9\n",
      "vert_start = 8 vert_end = 11 horiz_start = 8 horiz_end = 11\n",
      "vert_start = 8 vert_end = 11 horiz_start = 8 horiz_end = 11\n",
      "vert_start = 8 vert_end = 11 horiz_start = 8 horiz_end = 11\n"
     ]
    }
   ],
   "source": [
    "n_H = n_W = 11\n",
    "n_C = 3\n",
    "f = 3\n",
    "stride = 2\n",
    "\n",
    "for h in range(0, n_H - f + 1, stride):                           # loop over vertical axis of the output volume\n",
    "    for w in range(0, n_W - f + 1, stride):                    # loop over horizontal axis of the output volume\n",
    "        for c in range(n_C):                   # loop over channels (= #filters) of the output volume\n",
    "\n",
    "            # Find the corners of the current \"slice\" (≈4 lines)\n",
    "            print('vert_start =', h,\n",
    "                  'vert_end =', h + f,\n",
    "                  'horiz_start =', w,\n",
    "                  'horiz_end =', w + f)"
   ]
  },
  {
   "cell_type": "code",
   "execution_count": 4,
   "metadata": {},
   "outputs": [
    {
     "data": {
      "text/plain": [
       "array([0, 1, 2])"
      ]
     },
     "execution_count": 4,
     "metadata": {},
     "output_type": "execute_result"
    }
   ],
   "source": [
    "import numpy as np\n",
    "\n",
    "\n",
    "np.array([0,1,2,3,4,5,6])[0:3]"
   ]
  }
 ],
 "metadata": {
  "kernelspec": {
   "display_name": "Python 3",
   "language": "python",
   "name": "python3"
  },
  "language_info": {
   "codemirror_mode": {
    "name": "ipython",
    "version": 3
   },
   "file_extension": ".py",
   "mimetype": "text/x-python",
   "name": "python",
   "nbconvert_exporter": "python",
   "pygments_lexer": "ipython3",
   "version": "3.6.6"
  },
  "latex_envs": {
   "LaTeX_envs_menu_present": true,
   "autoclose": false,
   "autocomplete": true,
   "bibliofile": "biblio.bib",
   "cite_by": "apalike",
   "current_citInitial": 1,
   "eqLabelWithNumbers": true,
   "eqNumInitial": 1,
   "hotkeys": {
    "equation": "Ctrl-E",
    "itemize": "Ctrl-I"
   },
   "labels_anchors": false,
   "latex_user_defs": false,
   "report_style_numbering": false,
   "user_envs_cfg": false
  }
 },
 "nbformat": 4,
 "nbformat_minor": 2
}
