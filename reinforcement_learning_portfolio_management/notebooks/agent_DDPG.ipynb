{
 "cells": [
  {
   "cell_type": "code",
   "execution_count": 452,
   "metadata": {},
   "outputs": [],
   "source": [
    "import numpy as np\n",
    "import math\n",
    "import sys\n",
    "# import myenv\n",
    "sys.path.append('../src/features/')\n",
    "sys.path.append('../src/data/')\n",
    "import data_preprocessing_from_yahoo_finance as dp\n",
    "import myenv\n",
    "from tqdm import tqdm\n",
    "import matplotlib.pyplot as plt\n",
    "import tensorflow as tf"
   ]
  },
  {
   "cell_type": "code",
   "execution_count": 453,
   "metadata": {
    "scrolled": true
   },
   "outputs": [
    {
     "name": "stdout",
     "output_type": "stream",
     "text": [
      "working on AAPL\n",
      "working on PG\n",
      "working on MS\n",
      "working on HSBC\n"
     ]
    }
   ],
   "source": [
    "result_np = dp.data_preprocessing_1(ticker_list_input=['AAPL', 'PG', 'MS', 'HSBC'], path='../data/raw/')\n",
    "c = myenv.myenv(result_np)"
   ]
  },
  {
   "cell_type": "markdown",
   "metadata": {},
   "source": [
    "# Agent"
   ]
  },
  {
   "cell_type": "code",
   "execution_count": 445,
   "metadata": {},
   "outputs": [],
   "source": [
    "class Agent:\n",
    "    def __init__(self, name, mode, sess, env=c, reuse=True, lr=0.01):\n",
    "        self.gamma = 0.99\n",
    "        self.sess = sess\n",
    "        self.lr = lr\n",
    "        self.actor_params = tf.get_collection(tf.GraphKeys.GLOBAL_VARIABLES, scope='network')+tf.get_collection(tf.GraphKeys.GLOBAL_VARIABLES, scope='output/new_weight')\n",
    "            \n",
    "        self.critic_params = tf.get_collection(tf.GraphKeys.GLOBAL_VARIABLES, scope='network')+tf.get_collection(tf.GraphKeys.GLOBAL_VARIABLES, scope='output/state_value')\n",
    "        \n",
    "        #############################################################\n",
    "        # Inputs\n",
    "        with tf.name_scope('Inputs'):\n",
    "            self.price_tensor = tf.placeholder(dtype=tf.float64,\n",
    "                              shape=[None]+env.observation_space_dimension['price_tensor'], name='price_tensor')\n",
    "            self.weight = tf.placeholder(dtype=tf.float64,\n",
    "                        shape=[None]+env.observation_space_dimension['weight'], name='weight')\n",
    "\n",
    "        \n",
    "        with tf.variable_scope('network', reuse=tf.AUTO_REUSE):\n",
    "            # Conv Layers\n",
    "            conv1 = tf.layers.conv2d(inputs=self.price_tensor,\n",
    "                         filters=32,\n",
    "                         kernel_size=[100,3],  # WRONG!\n",
    "                         strides=2,\n",
    "                         padding='same', name='conv1')\n",
    "            conv2 = tf.layers.conv2d(inputs=conv1,\n",
    "                         filters=24,\n",
    "                         kernel_size=[10,3],\n",
    "                         strides=2,\n",
    "                         padding='same', name='conv2')\n",
    "            F = tf.reshape(conv2, [-1,np.prod(conv2.shape[1:])]) # Flatten\n",
    "\n",
    "            # Dense Layer\n",
    "            dense1 = tf.layers.dense(inputs=F, units=100,\n",
    "                        activation=tf.nn.relu)\n",
    "            dense2 = tf.layers.dense(inputs=dense1, units=50,\n",
    "                        activation=tf.nn.relu)\n",
    "            # Concat weight tensor\n",
    "            concat = tf.concat([dense2, self.weight], 1)\n",
    "\n",
    "            dense3 = tf.layers.dense(inputs=concat, units=100,\n",
    "                        activation=tf.nn.relu)\n",
    "\n",
    "            logits = tf.layers.dense(dense3, units=env.action_space_dimension)\n",
    "        \n",
    "        with tf.variable_scope('output', reuse=tf.AUTO_REUSE):\n",
    "            new_weight = tf.nn.softmax(logits, name='new_weight') # Actor output\n",
    "        \n",
    "            state_value = dense2 = tf.layers.dense(inputs=dense2, units=1, # Critic Output\n",
    "                        activation='linear', name='state_value')\n",
    "        \n",
    "        self.output = tf.concat([new_weight, state_value], 1)\n",
    "        self.init = tf.global_variables_initializer()\n",
    "    ########################################################\n",
    "#     # Critic related\n",
    "#     with tf.variable_scope('next_state_value'):\n",
    "#         self.next_state_value = self.sess.run(state_value, feed_dict={self.price_tensor:S_[0], self.weight:S_[1]})    \n",
    "    \n",
    "#     with tf.variable_scope('target_state_value'):\n",
    "#         self.target_q = R + self.gamma * self.q_\n",
    "    \n",
    "#     with tf.variable_scope('TD_error'):\n",
    "#         self.critic_loss = tf.reduce_mean(tf.squared_difference(self.target_q, self.q_))\n",
    "        \n",
    "#     with tf.variable_scope('C_train'):\n",
    "#         self.critic_train_op = tf.train.AdadeltaOptimizer(self.lr).minimize(self.critic_loss)\n",
    "\n",
    "# #     def critic_learn(self, S, A, R, S_):\n",
    "# #         self.sess.run(self.critic_train_op, feed_dict{})\n",
    "            \n",
    "\n",
    "    \n",
    "    \n",
    "    \n",
    "    \n",
    "    \n",
    "    \n",
    "    \n",
    "    \n",
    "    \n",
    "    \n",
    "    def add_actor_grad_to_graph(self, actor_grads):\n",
    "        with tf.variable_scope('policy_grads'):\n",
    "            self.policy_grads = tf.gradients(ys=self.new_weight, xs=self.actor_params, grad_ys=actor_grads)\n",
    "\n",
    "        with tf.variable_scope('actor_training'):\n",
    "            opt = tf.train.AdamOptimizer(-self.lr)\n",
    "            self.actor_train_op = opt.apply_gradients(zip(self.policy_grads, self.actor_params))\n",
    "    \n",
    "    def actor_learn(self, s):\n",
    "        self.sess.run(self.actor_train_op, feed_dict={S: s})\n",
    "    \n",
    "    def make_prediction(self):\n",
    "        return self.output\n",
    "    \n",
    "        \n",
    "    \n",
    "#     with tf.variable_scope('target_q'):\n",
    "#         self.target_q = R + self.gamma*self.state_value\n",
    "    \n",
    "#     self.q_loss = ][]"
   ]
  },
  {
   "cell_type": "code",
   "execution_count": 444,
   "metadata": {},
   "outputs": [
    {
     "ename": "ValueError",
     "evalue": "Trying to share variable network/conv1/kernel, but specified shape (100, 3, 6, 32) and found shape (100, 3, 5, 32).",
     "output_type": "error",
     "traceback": [
      "\u001b[1;31m---------------------------------------------------------------------------\u001b[0m",
      "\u001b[1;31mValueError\u001b[0m                                Traceback (most recent call last)",
      "\u001b[1;32m<ipython-input-444-7a2061069a22>\u001b[0m in \u001b[0;36m<module>\u001b[1;34m()\u001b[0m\n\u001b[0;32m      1\u001b[0m \u001b[1;32mwith\u001b[0m \u001b[0mtf\u001b[0m\u001b[1;33m.\u001b[0m\u001b[0mSession\u001b[0m\u001b[1;33m(\u001b[0m\u001b[1;33m)\u001b[0m \u001b[1;32mas\u001b[0m \u001b[0msess\u001b[0m\u001b[1;33m:\u001b[0m\u001b[1;33m\u001b[0m\u001b[0m\n\u001b[1;32m----> 2\u001b[1;33m     \u001b[0ma\u001b[0m \u001b[1;33m=\u001b[0m \u001b[0mAgent\u001b[0m\u001b[1;33m(\u001b[0m\u001b[0menv\u001b[0m\u001b[1;33m=\u001b[0m\u001b[0mc\u001b[0m\u001b[1;33m,\u001b[0m \u001b[0mmode\u001b[0m\u001b[1;33m=\u001b[0m\u001b[1;34m'test'\u001b[0m\u001b[1;33m,\u001b[0m \u001b[0mname\u001b[0m\u001b[1;33m=\u001b[0m\u001b[1;34m'test'\u001b[0m\u001b[1;33m,\u001b[0m \u001b[0msess\u001b[0m\u001b[1;33m=\u001b[0m\u001b[0msess\u001b[0m\u001b[1;33m)\u001b[0m\u001b[1;33m\u001b[0m\u001b[0m\n\u001b[0m\u001b[0;32m      3\u001b[0m     \u001b[0msess\u001b[0m\u001b[1;33m.\u001b[0m\u001b[0mrun\u001b[0m\u001b[1;33m(\u001b[0m\u001b[0ma\u001b[0m\u001b[1;33m.\u001b[0m\u001b[0minit\u001b[0m\u001b[1;33m)\u001b[0m\u001b[1;33m\u001b[0m\u001b[0m\n\u001b[0;32m      4\u001b[0m     testing=sess.run(a.make_prediction(),\n\u001b[0;32m      5\u001b[0m                      {a.price_tensor:np.array([c.reset()[0]]), \n",
      "\u001b[1;32m<ipython-input-441-c8333a5f7b9d>\u001b[0m in \u001b[0;36m__init__\u001b[1;34m(self, name, mode, sess, env, reuse, lr)\u001b[0m\n\u001b[0;32m     23\u001b[0m                          \u001b[0mkernel_size\u001b[0m\u001b[1;33m=\u001b[0m\u001b[1;33m[\u001b[0m\u001b[1;36m100\u001b[0m\u001b[1;33m,\u001b[0m\u001b[1;36m3\u001b[0m\u001b[1;33m]\u001b[0m\u001b[1;33m,\u001b[0m\u001b[1;33m\u001b[0m\u001b[0m\n\u001b[0;32m     24\u001b[0m                          \u001b[0mstrides\u001b[0m\u001b[1;33m=\u001b[0m\u001b[1;36m2\u001b[0m\u001b[1;33m,\u001b[0m\u001b[1;33m\u001b[0m\u001b[0m\n\u001b[1;32m---> 25\u001b[1;33m                          padding='same', name='conv1')\n\u001b[0m\u001b[0;32m     26\u001b[0m             conv2 = tf.layers.conv2d(inputs=conv1,\n\u001b[0;32m     27\u001b[0m                          \u001b[0mfilters\u001b[0m\u001b[1;33m=\u001b[0m\u001b[1;36m24\u001b[0m\u001b[1;33m,\u001b[0m\u001b[1;33m\u001b[0m\u001b[0m\n",
      "\u001b[1;32mC:\\Users\\user\\AppData\\Roaming\\Python\\Python36\\site-packages\\tensorflow\\python\\layers\\convolutional.py\u001b[0m in \u001b[0;36mconv2d\u001b[1;34m(inputs, filters, kernel_size, strides, padding, data_format, dilation_rate, activation, use_bias, kernel_initializer, bias_initializer, kernel_regularizer, bias_regularizer, activity_regularizer, kernel_constraint, bias_constraint, trainable, name, reuse)\u001b[0m\n\u001b[0;32m    423\u001b[0m       \u001b[0m_reuse\u001b[0m\u001b[1;33m=\u001b[0m\u001b[0mreuse\u001b[0m\u001b[1;33m,\u001b[0m\u001b[1;33m\u001b[0m\u001b[0m\n\u001b[0;32m    424\u001b[0m       _scope=name)\n\u001b[1;32m--> 425\u001b[1;33m   \u001b[1;32mreturn\u001b[0m \u001b[0mlayer\u001b[0m\u001b[1;33m.\u001b[0m\u001b[0mapply\u001b[0m\u001b[1;33m(\u001b[0m\u001b[0minputs\u001b[0m\u001b[1;33m)\u001b[0m\u001b[1;33m\u001b[0m\u001b[0m\n\u001b[0m\u001b[0;32m    426\u001b[0m \u001b[1;33m\u001b[0m\u001b[0m\n\u001b[0;32m    427\u001b[0m \u001b[1;33m\u001b[0m\u001b[0m\n",
      "\u001b[1;32mC:\\Users\\user\\AppData\\Roaming\\Python\\Python36\\site-packages\\tensorflow\\python\\keras\\engine\\base_layer.py\u001b[0m in \u001b[0;36mapply\u001b[1;34m(self, inputs, *args, **kwargs)\u001b[0m\n\u001b[0;32m    803\u001b[0m       \u001b[0mOutput\u001b[0m \u001b[0mtensor\u001b[0m\u001b[1;33m(\u001b[0m\u001b[0ms\u001b[0m\u001b[1;33m)\u001b[0m\u001b[1;33m.\u001b[0m\u001b[1;33m\u001b[0m\u001b[0m\n\u001b[0;32m    804\u001b[0m     \"\"\"\n\u001b[1;32m--> 805\u001b[1;33m     \u001b[1;32mreturn\u001b[0m \u001b[0mself\u001b[0m\u001b[1;33m.\u001b[0m\u001b[0m__call__\u001b[0m\u001b[1;33m(\u001b[0m\u001b[0minputs\u001b[0m\u001b[1;33m,\u001b[0m \u001b[1;33m*\u001b[0m\u001b[0margs\u001b[0m\u001b[1;33m,\u001b[0m \u001b[1;33m**\u001b[0m\u001b[0mkwargs\u001b[0m\u001b[1;33m)\u001b[0m\u001b[1;33m\u001b[0m\u001b[0m\n\u001b[0m\u001b[0;32m    806\u001b[0m \u001b[1;33m\u001b[0m\u001b[0m\n\u001b[0;32m    807\u001b[0m   \u001b[1;32mdef\u001b[0m \u001b[0m_set_learning_phase_metadata\u001b[0m\u001b[1;33m(\u001b[0m\u001b[0mself\u001b[0m\u001b[1;33m,\u001b[0m \u001b[0minputs\u001b[0m\u001b[1;33m,\u001b[0m \u001b[0moutputs\u001b[0m\u001b[1;33m)\u001b[0m\u001b[1;33m:\u001b[0m\u001b[1;33m\u001b[0m\u001b[0m\n",
      "\u001b[1;32mC:\\Users\\user\\AppData\\Roaming\\Python\\Python36\\site-packages\\tensorflow\\python\\layers\\base.py\u001b[0m in \u001b[0;36m__call__\u001b[1;34m(self, inputs, *args, **kwargs)\u001b[0m\n\u001b[0;32m    360\u001b[0m \u001b[1;33m\u001b[0m\u001b[0m\n\u001b[0;32m    361\u001b[0m       \u001b[1;31m# Actually call layer\u001b[0m\u001b[1;33m\u001b[0m\u001b[1;33m\u001b[0m\u001b[0m\n\u001b[1;32m--> 362\u001b[1;33m       \u001b[0moutputs\u001b[0m \u001b[1;33m=\u001b[0m \u001b[0msuper\u001b[0m\u001b[1;33m(\u001b[0m\u001b[0mLayer\u001b[0m\u001b[1;33m,\u001b[0m \u001b[0mself\u001b[0m\u001b[1;33m)\u001b[0m\u001b[1;33m.\u001b[0m\u001b[0m__call__\u001b[0m\u001b[1;33m(\u001b[0m\u001b[0minputs\u001b[0m\u001b[1;33m,\u001b[0m \u001b[1;33m*\u001b[0m\u001b[0margs\u001b[0m\u001b[1;33m,\u001b[0m \u001b[1;33m**\u001b[0m\u001b[0mkwargs\u001b[0m\u001b[1;33m)\u001b[0m\u001b[1;33m\u001b[0m\u001b[0m\n\u001b[0m\u001b[0;32m    363\u001b[0m \u001b[1;33m\u001b[0m\u001b[0m\n\u001b[0;32m    364\u001b[0m     \u001b[1;32mif\u001b[0m \u001b[1;32mnot\u001b[0m \u001b[0mcontext\u001b[0m\u001b[1;33m.\u001b[0m\u001b[0mexecuting_eagerly\u001b[0m\u001b[1;33m(\u001b[0m\u001b[1;33m)\u001b[0m\u001b[1;33m:\u001b[0m\u001b[1;33m\u001b[0m\u001b[0m\n",
      "\u001b[1;32mC:\\Users\\user\\AppData\\Roaming\\Python\\Python36\\site-packages\\tensorflow\\python\\keras\\engine\\base_layer.py\u001b[0m in \u001b[0;36m__call__\u001b[1;34m(self, inputs, *args, **kwargs)\u001b[0m\n\u001b[0;32m    726\u001b[0m         \u001b[1;32mif\u001b[0m \u001b[0mall\u001b[0m\u001b[1;33m(\u001b[0m\u001b[0mhasattr\u001b[0m\u001b[1;33m(\u001b[0m\u001b[0mx\u001b[0m\u001b[1;33m,\u001b[0m \u001b[1;34m'shape'\u001b[0m\u001b[1;33m)\u001b[0m \u001b[1;32mfor\u001b[0m \u001b[0mx\u001b[0m \u001b[1;32min\u001b[0m \u001b[0minput_list\u001b[0m\u001b[1;33m)\u001b[0m\u001b[1;33m:\u001b[0m\u001b[1;33m\u001b[0m\u001b[0m\n\u001b[0;32m    727\u001b[0m           \u001b[0minput_shapes\u001b[0m \u001b[1;33m=\u001b[0m \u001b[0mnest\u001b[0m\u001b[1;33m.\u001b[0m\u001b[0mmap_structure\u001b[0m\u001b[1;33m(\u001b[0m\u001b[1;32mlambda\u001b[0m \u001b[0mx\u001b[0m\u001b[1;33m:\u001b[0m \u001b[0mx\u001b[0m\u001b[1;33m.\u001b[0m\u001b[0mshape\u001b[0m\u001b[1;33m,\u001b[0m \u001b[0minputs\u001b[0m\u001b[1;33m)\u001b[0m\u001b[1;33m\u001b[0m\u001b[0m\n\u001b[1;32m--> 728\u001b[1;33m         \u001b[0mself\u001b[0m\u001b[1;33m.\u001b[0m\u001b[0mbuild\u001b[0m\u001b[1;33m(\u001b[0m\u001b[0minput_shapes\u001b[0m\u001b[1;33m)\u001b[0m\u001b[1;33m\u001b[0m\u001b[0m\n\u001b[0m\u001b[0;32m    729\u001b[0m         \u001b[0mself\u001b[0m\u001b[1;33m.\u001b[0m\u001b[0mbuilt\u001b[0m \u001b[1;33m=\u001b[0m \u001b[1;32mTrue\u001b[0m\u001b[1;33m\u001b[0m\u001b[0m\n\u001b[0;32m    730\u001b[0m \u001b[1;33m\u001b[0m\u001b[0m\n",
      "\u001b[1;32mC:\\Users\\user\\AppData\\Roaming\\Python\\Python36\\site-packages\\tensorflow\\python\\keras\\layers\\convolutional.py\u001b[0m in \u001b[0;36mbuild\u001b[1;34m(self, input_shape)\u001b[0m\n\u001b[0;32m    159\u001b[0m         \u001b[0mconstraint\u001b[0m\u001b[1;33m=\u001b[0m\u001b[0mself\u001b[0m\u001b[1;33m.\u001b[0m\u001b[0mkernel_constraint\u001b[0m\u001b[1;33m,\u001b[0m\u001b[1;33m\u001b[0m\u001b[0m\n\u001b[0;32m    160\u001b[0m         \u001b[0mtrainable\u001b[0m\u001b[1;33m=\u001b[0m\u001b[1;32mTrue\u001b[0m\u001b[1;33m,\u001b[0m\u001b[1;33m\u001b[0m\u001b[0m\n\u001b[1;32m--> 161\u001b[1;33m         dtype=self.dtype)\n\u001b[0m\u001b[0;32m    162\u001b[0m     \u001b[1;32mif\u001b[0m \u001b[0mself\u001b[0m\u001b[1;33m.\u001b[0m\u001b[0muse_bias\u001b[0m\u001b[1;33m:\u001b[0m\u001b[1;33m\u001b[0m\u001b[0m\n\u001b[0;32m    163\u001b[0m       self.bias = self.add_weight(\n",
      "\u001b[1;32mC:\\Users\\user\\AppData\\Roaming\\Python\\Python36\\site-packages\\tensorflow\\python\\layers\\base.py\u001b[0m in \u001b[0;36madd_weight\u001b[1;34m(self, name, shape, dtype, initializer, regularizer, trainable, constraint, use_resource, synchronization, aggregation, partitioner)\u001b[0m\n\u001b[0;32m    274\u001b[0m             \u001b[0msynchronization\u001b[0m\u001b[1;33m=\u001b[0m\u001b[0msynchronization\u001b[0m\u001b[1;33m,\u001b[0m\u001b[1;33m\u001b[0m\u001b[0m\n\u001b[0;32m    275\u001b[0m             \u001b[0maggregation\u001b[0m\u001b[1;33m=\u001b[0m\u001b[0maggregation\u001b[0m\u001b[1;33m,\u001b[0m\u001b[1;33m\u001b[0m\u001b[0m\n\u001b[1;32m--> 276\u001b[1;33m             getter=vs.get_variable)\n\u001b[0m\u001b[0;32m    277\u001b[0m \u001b[1;33m\u001b[0m\u001b[0m\n\u001b[0;32m    278\u001b[0m         \u001b[1;32mif\u001b[0m \u001b[0mregularizer\u001b[0m\u001b[1;33m:\u001b[0m\u001b[1;33m\u001b[0m\u001b[0m\n",
      "\u001b[1;32mC:\\Users\\user\\AppData\\Roaming\\Python\\Python36\\site-packages\\tensorflow\\python\\keras\\engine\\base_layer.py\u001b[0m in \u001b[0;36madd_weight\u001b[1;34m(self, name, shape, dtype, initializer, regularizer, trainable, constraint, partitioner, use_resource, synchronization, aggregation, getter)\u001b[0m\n\u001b[0;32m    563\u001b[0m         \u001b[0muse_resource\u001b[0m\u001b[1;33m=\u001b[0m\u001b[0muse_resource\u001b[0m\u001b[1;33m,\u001b[0m\u001b[1;33m\u001b[0m\u001b[0m\n\u001b[0;32m    564\u001b[0m         \u001b[0msynchronization\u001b[0m\u001b[1;33m=\u001b[0m\u001b[0msynchronization\u001b[0m\u001b[1;33m,\u001b[0m\u001b[1;33m\u001b[0m\u001b[0m\n\u001b[1;32m--> 565\u001b[1;33m         aggregation=aggregation)\n\u001b[0m\u001b[0;32m    566\u001b[0m \u001b[1;33m\u001b[0m\u001b[0m\n\u001b[0;32m    567\u001b[0m     \u001b[1;32mif\u001b[0m \u001b[0mregularizer\u001b[0m \u001b[1;32mis\u001b[0m \u001b[1;32mnot\u001b[0m \u001b[1;32mNone\u001b[0m\u001b[1;33m:\u001b[0m\u001b[1;33m\u001b[0m\u001b[0m\n",
      "\u001b[1;32mC:\\Users\\user\\AppData\\Roaming\\Python\\Python36\\site-packages\\tensorflow\\python\\training\\checkpointable\\base.py\u001b[0m in \u001b[0;36m_add_variable_with_custom_getter\u001b[1;34m(self, name, shape, dtype, initializer, getter, overwrite, **kwargs_for_getter)\u001b[0m\n\u001b[0;32m    533\u001b[0m     new_variable = getter(\n\u001b[0;32m    534\u001b[0m         \u001b[0mname\u001b[0m\u001b[1;33m=\u001b[0m\u001b[0mname\u001b[0m\u001b[1;33m,\u001b[0m \u001b[0mshape\u001b[0m\u001b[1;33m=\u001b[0m\u001b[0mshape\u001b[0m\u001b[1;33m,\u001b[0m \u001b[0mdtype\u001b[0m\u001b[1;33m=\u001b[0m\u001b[0mdtype\u001b[0m\u001b[1;33m,\u001b[0m \u001b[0minitializer\u001b[0m\u001b[1;33m=\u001b[0m\u001b[0minitializer\u001b[0m\u001b[1;33m,\u001b[0m\u001b[1;33m\u001b[0m\u001b[0m\n\u001b[1;32m--> 535\u001b[1;33m         **kwargs_for_getter)\n\u001b[0m\u001b[0;32m    536\u001b[0m \u001b[1;33m\u001b[0m\u001b[0m\n\u001b[0;32m    537\u001b[0m     \u001b[1;31m# If we set an initializer and the variable processed it, tracking will not\u001b[0m\u001b[1;33m\u001b[0m\u001b[1;33m\u001b[0m\u001b[0m\n",
      "\u001b[1;32mC:\\Users\\user\\AppData\\Roaming\\Python\\Python36\\site-packages\\tensorflow\\python\\ops\\variable_scope.py\u001b[0m in \u001b[0;36mget_variable\u001b[1;34m(name, shape, dtype, initializer, regularizer, trainable, collections, caching_device, partitioner, validate_shape, use_resource, custom_getter, constraint, synchronization, aggregation)\u001b[0m\n\u001b[0;32m   1465\u001b[0m       \u001b[0mconstraint\u001b[0m\u001b[1;33m=\u001b[0m\u001b[0mconstraint\u001b[0m\u001b[1;33m,\u001b[0m\u001b[1;33m\u001b[0m\u001b[0m\n\u001b[0;32m   1466\u001b[0m       \u001b[0msynchronization\u001b[0m\u001b[1;33m=\u001b[0m\u001b[0msynchronization\u001b[0m\u001b[1;33m,\u001b[0m\u001b[1;33m\u001b[0m\u001b[0m\n\u001b[1;32m-> 1467\u001b[1;33m       aggregation=aggregation)\n\u001b[0m\u001b[0;32m   1468\u001b[0m \u001b[1;33m\u001b[0m\u001b[0m\n\u001b[0;32m   1469\u001b[0m \u001b[1;33m\u001b[0m\u001b[0m\n",
      "\u001b[1;32mC:\\Users\\user\\AppData\\Roaming\\Python\\Python36\\site-packages\\tensorflow\\python\\ops\\variable_scope.py\u001b[0m in \u001b[0;36mget_variable\u001b[1;34m(self, var_store, name, shape, dtype, initializer, regularizer, reuse, trainable, collections, caching_device, partitioner, validate_shape, use_resource, custom_getter, constraint, synchronization, aggregation)\u001b[0m\n\u001b[0;32m   1215\u001b[0m           \u001b[0mconstraint\u001b[0m\u001b[1;33m=\u001b[0m\u001b[0mconstraint\u001b[0m\u001b[1;33m,\u001b[0m\u001b[1;33m\u001b[0m\u001b[0m\n\u001b[0;32m   1216\u001b[0m           \u001b[0msynchronization\u001b[0m\u001b[1;33m=\u001b[0m\u001b[0msynchronization\u001b[0m\u001b[1;33m,\u001b[0m\u001b[1;33m\u001b[0m\u001b[0m\n\u001b[1;32m-> 1217\u001b[1;33m           aggregation=aggregation)\n\u001b[0m\u001b[0;32m   1218\u001b[0m \u001b[1;33m\u001b[0m\u001b[0m\n\u001b[0;32m   1219\u001b[0m   def _get_partitioned_variable(self,\n",
      "\u001b[1;32mC:\\Users\\user\\AppData\\Roaming\\Python\\Python36\\site-packages\\tensorflow\\python\\ops\\variable_scope.py\u001b[0m in \u001b[0;36mget_variable\u001b[1;34m(self, name, shape, dtype, initializer, regularizer, reuse, trainable, collections, caching_device, partitioner, validate_shape, use_resource, custom_getter, constraint, synchronization, aggregation)\u001b[0m\n\u001b[0;32m    525\u001b[0m           \u001b[0mconstraint\u001b[0m\u001b[1;33m=\u001b[0m\u001b[0mconstraint\u001b[0m\u001b[1;33m,\u001b[0m\u001b[1;33m\u001b[0m\u001b[0m\n\u001b[0;32m    526\u001b[0m           \u001b[0msynchronization\u001b[0m\u001b[1;33m=\u001b[0m\u001b[0msynchronization\u001b[0m\u001b[1;33m,\u001b[0m\u001b[1;33m\u001b[0m\u001b[0m\n\u001b[1;32m--> 527\u001b[1;33m           aggregation=aggregation)\n\u001b[0m\u001b[0;32m    528\u001b[0m \u001b[1;33m\u001b[0m\u001b[0m\n\u001b[0;32m    529\u001b[0m   def _get_partitioned_variable(self,\n",
      "\u001b[1;32mC:\\Users\\user\\AppData\\Roaming\\Python\\Python36\\site-packages\\tensorflow\\python\\ops\\variable_scope.py\u001b[0m in \u001b[0;36m_true_getter\u001b[1;34m(name, shape, dtype, initializer, regularizer, reuse, trainable, collections, caching_device, partitioner, validate_shape, use_resource, constraint, synchronization, aggregation)\u001b[0m\n\u001b[0;32m    479\u001b[0m           \u001b[0mconstraint\u001b[0m\u001b[1;33m=\u001b[0m\u001b[0mconstraint\u001b[0m\u001b[1;33m,\u001b[0m\u001b[1;33m\u001b[0m\u001b[0m\n\u001b[0;32m    480\u001b[0m           \u001b[0msynchronization\u001b[0m\u001b[1;33m=\u001b[0m\u001b[0msynchronization\u001b[0m\u001b[1;33m,\u001b[0m\u001b[1;33m\u001b[0m\u001b[0m\n\u001b[1;32m--> 481\u001b[1;33m           aggregation=aggregation)\n\u001b[0m\u001b[0;32m    482\u001b[0m \u001b[1;33m\u001b[0m\u001b[0m\n\u001b[0;32m    483\u001b[0m     \u001b[1;31m# Set trainable value based on synchronization value.\u001b[0m\u001b[1;33m\u001b[0m\u001b[1;33m\u001b[0m\u001b[0m\n",
      "\u001b[1;32mC:\\Users\\user\\AppData\\Roaming\\Python\\Python36\\site-packages\\tensorflow\\python\\ops\\variable_scope.py\u001b[0m in \u001b[0;36m_get_single_variable\u001b[1;34m(self, name, shape, dtype, initializer, regularizer, partition_info, reuse, trainable, collections, caching_device, validate_shape, use_resource, constraint, synchronization, aggregation)\u001b[0m\n\u001b[0;32m    851\u001b[0m         raise ValueError(\"Trying to share variable %s, but specified shape %s\"\n\u001b[0;32m    852\u001b[0m                          \" and found shape %s.\" % (name, shape,\n\u001b[1;32m--> 853\u001b[1;33m                                                    found_var.get_shape()))\n\u001b[0m\u001b[0;32m    854\u001b[0m       \u001b[1;32mif\u001b[0m \u001b[1;32mnot\u001b[0m \u001b[0mdtype\u001b[0m\u001b[1;33m.\u001b[0m\u001b[0mis_compatible_with\u001b[0m\u001b[1;33m(\u001b[0m\u001b[0mfound_var\u001b[0m\u001b[1;33m.\u001b[0m\u001b[0mdtype\u001b[0m\u001b[1;33m)\u001b[0m\u001b[1;33m:\u001b[0m\u001b[1;33m\u001b[0m\u001b[0m\n\u001b[0;32m    855\u001b[0m         \u001b[0mdtype_str\u001b[0m \u001b[1;33m=\u001b[0m \u001b[0mdtype\u001b[0m\u001b[1;33m.\u001b[0m\u001b[0mname\u001b[0m\u001b[1;33m\u001b[0m\u001b[0m\n",
      "\u001b[1;31mValueError\u001b[0m: Trying to share variable network/conv1/kernel, but specified shape (100, 3, 6, 32) and found shape (100, 3, 5, 32)."
     ]
    }
   ],
   "source": [
    "with tf.Session() as sess:\n",
    "    a = Agent(env=c, mode='test', name='test', sess=sess)\n",
    "    sess.run(a.init)\n",
    "    testing=sess.run(a.make_prediction(),\n",
    "                     {a.price_tensor:np.array([c.reset()[0]]), \n",
    "                      a.weight:np.array([c.reset()[1]])})\n",
    "# print(testing,\n",
    "# testing[0][:-1],\n",
    "# testing[0][-1])"
   ]
  },
  {
   "cell_type": "code",
   "execution_count": 210,
   "metadata": {},
   "outputs": [],
   "source": [
    "current_price, last_weight, reward, done = c.reset()\n",
    "c.current_step\n",
    "\n",
    "next_price, current_weight, reward, done = c.step(testing[0][:-1])\n",
    "# c.current_step\n",
    "# print(c.current_step)\n",
    "# c.all_prices_normalized[:,c.current_step:c.current_step+c.price_window,:] == price_tensor"
   ]
  },
  {
   "cell_type": "code",
   "execution_count": 211,
   "metadata": {
    "collapsed": true
   },
   "outputs": [
    {
     "data": {
      "text/plain": [
       "array([[[ True,  True,  True,  True,  True],\n",
       "        [ True,  True,  True,  True,  True],\n",
       "        [ True,  True,  True,  True,  True],\n",
       "        ...,\n",
       "        [ True,  True,  True,  True,  True],\n",
       "        [ True,  True,  True,  True,  True],\n",
       "        [ True,  True,  True,  True,  True]],\n",
       "\n",
       "       [[ True,  True,  True,  True,  True],\n",
       "        [ True,  True,  True,  True,  True],\n",
       "        [ True,  True,  True,  True,  True],\n",
       "        ...,\n",
       "        [ True,  True,  True,  True,  True],\n",
       "        [ True,  True,  True,  True,  True],\n",
       "        [ True,  True,  True,  True,  True]],\n",
       "\n",
       "       [[ True,  True,  True,  True,  True],\n",
       "        [ True,  True,  True,  True,  True],\n",
       "        [ True,  True,  True,  True,  True],\n",
       "        ...,\n",
       "        [ True,  True,  True,  True,  True],\n",
       "        [ True,  True,  True,  True,  True],\n",
       "        [ True,  True,  True,  True,  True]],\n",
       "\n",
       "       [[ True,  True,  True,  True,  True],\n",
       "        [ True,  True,  True,  True,  True],\n",
       "        [ True,  True,  True,  True,  True],\n",
       "        ...,\n",
       "        [ True,  True,  True,  True,  True],\n",
       "        [ True,  True,  True,  True,  True],\n",
       "        [ True,  True,  True,  True,  True]]])"
      ]
     },
     "execution_count": 211,
     "metadata": {},
     "output_type": "execute_result"
    }
   ],
   "source": [
    "c.all_prices_normalized[:,c.current_step-1:c.current_step+c.price_window-1,:] == current_price"
   ]
  },
  {
   "cell_type": "code",
   "execution_count": 235,
   "metadata": {},
   "outputs": [],
   "source": []
  },
  {
   "cell_type": "code",
   "execution_count": 24,
   "metadata": {},
   "outputs": [],
   "source": [
    "def evaluate(sess, agent, env, n_episodes=1):\n",
    "    rewards = []\n",
    "    for _ in tqdm(range(n_episodes)):\n",
    "        price_tensor, weight, _, _ = env.reset()\n",
    "        total_reward = 0\n",
    "        while True:\n",
    "            output = sess.run(agent.make_prediction(),\n",
    "                     {agent.price_tensor:np.array([price_tensor]), \n",
    "                      agent.weight:np.array([weight])})\n",
    "            action, state_value = output[0][0:-1], output[0][-1]\n",
    "            price_tensor, weight, reward, done = env.step(action)\n",
    "            total_reward += reward\n",
    "            if done: break\n",
    "        rewards.append(total_reward)\n",
    "    return rewards"
   ]
  },
  {
   "cell_type": "code",
   "execution_count": 25,
   "metadata": {},
   "outputs": [
    {
     "name": "stderr",
     "output_type": "stream",
     "text": [
      "100%|██████████| 1/1 [00:01<00:00,  1.64s/it]\n"
     ]
    }
   ],
   "source": [
    "a = Agent(env=c, mode='test', name='test')\n",
    "with tf.Session() as sess:\n",
    "    sess.run(a.init)\n",
    "    G = evaluate(sess, a, c, 1)"
   ]
  },
  {
   "cell_type": "code",
   "execution_count": 477,
   "metadata": {},
   "outputs": [],
   "source": [
    "price_tensor, weight, reward, done = c.reset()\n",
    "c.action_space_dimension\n",
    "# type(c.current_step+c.price_window)\n",
    "# c.all_prices[3,c.current_step+c.price_window,:]\n",
    "n=0\n",
    "G = []\n",
    "while not done:\n",
    "#     print(c.current_step)\n",
    "    _,_,r,done = c.step(np.array([0.6-n,0.1+n/4,0.1+n/4,0.1+n/4,0.1+n/4]))\n",
    "    G.append(r)\n",
    "    n+=0.001"
   ]
  },
  {
   "cell_type": "code",
   "execution_count": 478,
   "metadata": {},
   "outputs": [
    {
     "data": {
      "text/plain": [
       "[<matplotlib.lines.Line2D at 0x20a2c491e48>,\n",
       " <matplotlib.lines.Line2D at 0x196af6932588>,\n",
       " <matplotlib.lines.Line2D at 0x196af69326d8>,\n",
       " <matplotlib.lines.Line2D at 0x196af6932828>,\n",
       " <matplotlib.lines.Line2D at 0x196af6932978>]"
      ]
     },
     "execution_count": 478,
     "metadata": {},
     "output_type": "execute_result"
    },
    {
     "data": {
      "image/png": "[encoded data removed]",
      "text/plain": [
       "<Figure size 432x288 with 1 Axes>"
      ]
     },
     "metadata": {
      "needs_background": "light"
     },
     "output_type": "display_data"
    }
   ],
   "source": [
    "plt.plot(c.portfolio_size, color='blue')\n",
    "# plt.plot(c.all_prices[3,-101:,:]/np.max(c.all_prices[3,-101:,:], axis=0))\n",
    "plt.plot(c.all_prices[3,-101:,:]/c.all_prices[3,-101,:])"
   ]
  },
  {
   "cell_type": "code",
   "execution_count": null,
   "metadata": {},
   "outputs": [],
   "source": [
    "def target_train(agent):\n",
    "    agent."
   ]
  },
  {
   "cell_type": "markdown",
   "metadata": {},
   "source": [
    "# Memory "
   ]
  },
  {
   "cell_type": "code",
   "execution_count": 427,
   "metadata": {},
   "outputs": [],
   "source": [
    "class memory(): # https://github.com/MorvanZhou/Reinforcement-learning-with-tensorflow/blob/master/contents/9_Deep_Deterministic_Policy_Gradient_DDPG/DDPG.py\n",
    "    def __init__(self, capacity, env):\n",
    "        self.capacity = capacity\n",
    "        self.env = env\n",
    "        self.pointer = 0\n",
    "        dim = 1+1+1+1# S,A,R,S_\n",
    "        self.data = np.zeros(([capacity]+[dim])) # state, action, reward, next_state\n",
    "\n",
    "    def store_transition(self, state_number, action_number, r, next_state_number):\n",
    "        transition = [state_number, action_number, r, next_state_number]\n",
    "        index = self.pointer % self.capacity\n",
    "        self.data[index, :] = transition\n",
    "        self.pointer += 1\n",
    "        \n",
    "    def sample(self, n):\n",
    "        assert self.pointer >= self.capacity, 'Please fill the memory'\n",
    "        indices = np.random.choice(self.capacity, size = n)\n",
    "        sampled_data = self.data[indices, :]\n",
    "        \n",
    "        S=[]\n",
    "        A=[]\n",
    "        R=[]\n",
    "        S_=[]\n",
    "        for row in sampled_data:\n",
    "            s = [self.env.all_prices_normalized[:,int(row[0]):int(row[0]+self.env.price_window),:], self.env.weights[int(row[0])] ]\n",
    "            S.append(s) # current step -1\n",
    "            A.append(self.env.weights[int(row[1]-1)])\n",
    "            R.append(row[2])\n",
    "            s_ = [self.env.all_prices_normalized[:,int(row[3]):int(row[3]+self.env.price_window),:], self.env.weights[int(row[3])] ]\n",
    "            S_.append(s_)\n",
    "        \n",
    "        S = np.array(S)\n",
    "        S_ = np.array(S_)\n",
    "        \n",
    "        result_S = [np.stack(S[:,0], axis=0), np.stack(S[:,1], axis=0)]\n",
    "        result_A = A\n",
    "        result_R = R\n",
    "        result_S_ = [np.stack(S_[:,0], axis=0), np.stack(S_[:,1], axis=0)]\n",
    "        return result_S, result_A, result_R, result_S_"
   ]
  },
  {
   "cell_type": "code",
   "execution_count": 484,
   "metadata": {},
   "outputs": [],
   "source": [
    "# memory must be stored AFTER finishing the step, so the env.current_step is updated before saving memory\n",
    "a = Agent(env=c, mode='test', name='test', sess=sess)\n",
    "M = memory(capacity=5, env=c)\n",
    "\n",
    "sess = tf.Session()\n",
    "sess.run(a.init)\n",
    "\n",
    "price_tensor = c.reset()[0]\n",
    "current_weight = c.reset()[1]\n",
    "\n",
    "while True:\n",
    "# for _ in tqdm(range(5)):\n",
    "    S_number = c.current_step\n",
    "    weight_number = c.current_step\n",
    "    testing=sess.run(a.make_prediction(),\n",
    "                     {a.price_tensor:[price_tensor], \n",
    "                      a.weight:[current_weight]})\n",
    "    price_tensor, current_weight, reward, done = c.step(testing[0][:-1])\n",
    "    M.store_transition(S_number, weight_number, reward, S_number+1) # use current step to store data in memory\n",
    "    if done: break"
   ]
  },
  {
   "cell_type": "code",
   "execution_count": 485,
   "metadata": {},
   "outputs": [],
   "source": [
    "S, A, R, S_ = M.sample(10)\n",
    "# S = np.array(S)\n",
    "# A = np.array(A)\n",
    "# R = np.array(R)\n",
    "# S_ = np.array(S_)"
   ]
  },
  {
   "cell_type": "code",
   "execution_count": 486,
   "metadata": {},
   "outputs": [
    {
     "data": {
      "text/plain": [
       "array([[[[1.        , 0.9699183 , 0.98834605, 0.96189815, 0.96313608],\n",
       "         [1.        , 1.03150568, 1.00181399, 1.06925877, 1.02995418],\n",
       "         [1.        , 0.97167789, 0.9987929 , 0.98204543, 1.01306047],\n",
       "         ...,\n",
       "         [1.        , 0.98990658, 1.00889224, 1.00824175, 1.00183861],\n",
       "         [1.        , 0.9867005 , 0.99978765, 1.0018864 , 1.00020388],\n",
       "         [1.        , 0.97265719, 0.98300586, 1.00481171, 0.9979613 ]],\n",
       "\n",
       "        [[1.        , 0.9830374 , 0.98954136, 1.01369536, 0.98333333],\n",
       "         [1.        , 1.01500805, 1.00150987, 1.01396841, 1.00854234],\n",
       "         [1.        , 0.96868825, 1.00105532, 1.        , 1.01250337],\n",
       "         ...,\n",
       "         [1.        , 0.99054885, 1.00232929, 1.00625389, 0.99716313],\n",
       "         [1.        , 0.98445601, 0.99820431, 1.00455772, 0.99857753],\n",
       "         [1.        , 0.97734276, 0.98412698, 0.99566915, 1.00122103]],\n",
       "\n",
       "        [[1.        , 1.00197622, 0.99273834, 0.985255  , 0.9815725 ],\n",
       "         [1.        , 0.99326108, 1.00259065, 1.05446519, 1.01487971],\n",
       "         [1.        , 0.9587125 , 0.99331202, 0.98371334, 1.01013973],\n",
       "         ...,\n",
       "         [1.        , 0.97090381, 1.00524968, 1.0033927 , 1.00081852],\n",
       "         [1.        , 0.99297925, 0.9852925 , 1.00295857, 1.00040892],\n",
       "         [1.        , 0.98566283, 0.99599789, 1.00568901, 0.99836497]],\n",
       "\n",
       "        [[1.        , 1.0134228 , 0.99788871, 1.04965046, 0.99605816],\n",
       "         [1.        , 0.98158618, 0.99682637, 0.99127437, 0.99768016],\n",
       "         [1.        , 0.98288623, 1.00379018, 1.02362753, 1.02899744],\n",
       "         ...,\n",
       "         [1.        , 0.98324206, 1.00244243, 1.00461509, 0.99492283],\n",
       "         [1.        , 0.98282817, 0.98135591, 1.00772602, 0.99979583],\n",
       "         [1.        , 0.99022101, 0.99568219, 0.99917122, 1.00265417]]],\n",
       "\n",
       "\n",
       "       [[[1.        , 1.03150568, 1.00181399, 1.06925877, 1.02995418],\n",
       "         [1.        , 0.97167789, 0.9987929 , 0.98204543, 1.01306047],\n",
       "         [1.        , 0.96823975, 0.99894244, 1.0171257 , 1.00717705],\n",
       "         ...,\n",
       "         [1.        , 0.9867005 , 0.99978765, 1.0018864 , 1.00020388],\n",
       "         [1.        , 0.97265719, 0.98300586, 1.00481171, 0.9979613 ],\n",
       "         [1.        , 0.98977176, 0.99870337, 1.00145742, 0.99530134]],\n",
       "\n",
       "        [[1.        , 1.01500805, 1.00150987, 1.01396841, 1.00854234],\n",
       "         [1.        , 0.96868825, 1.00105532, 1.        , 1.01250337],\n",
       "         [1.        , 0.98089952, 1.01174697, 1.02642281, 1.01872266],\n",
       "         ...,\n",
       "         [1.        , 0.98445601, 0.99820431, 1.00455772, 0.99857753],\n",
       "         [1.        , 0.97734276, 0.98412698, 0.99566915, 1.00122103],\n",
       "         [1.        , 0.99711038, 1.0009677 , 1.00062143, 0.99369916]],\n",
       "\n",
       "        [[1.        , 0.99326108, 1.00259065, 1.05446519, 1.01487971],\n",
       "         [1.        , 0.9587125 , 0.99331202, 0.98371334, 1.01013973],\n",
       "         [1.        , 1.00681803, 1.01071162, 1.0286188 , 1.02021158],\n",
       "         ...,\n",
       "         [1.        , 0.99297925, 0.9852925 , 1.00295857, 1.00040892],\n",
       "         [1.        , 0.98566283, 0.99599789, 1.00568901, 0.99836497],\n",
       "         [1.        , 0.99070142, 1.00271503, 0.99580975, 0.98894581]],\n",
       "\n",
       "        [[1.        , 0.98158618, 0.99682637, 0.99127437, 0.99768016],\n",
       "         [1.        , 0.98288623, 1.00379018, 1.02362753, 1.02899744],\n",
       "         [1.        , 1.00234393, 1.00709864, 1.02466622, 1.01688152],\n",
       "         ...,\n",
       "         [1.        , 0.98282817, 0.98135591, 1.00772602, 0.99979583],\n",
       "         [1.        , 0.99022101, 0.99568219, 0.99917122, 1.00265417],\n",
       "         [1.        , 0.99117785, 1.00520385, 0.99004563, 0.98696804]]],\n",
       "\n",
       "\n",
       "       [[[1.        , 0.97167789, 0.9987929 , 0.98204543, 1.01306047],\n",
       "         [1.        , 0.96823975, 0.99894244, 1.0171257 , 1.00717705],\n",
       "         [1.        , 0.99198914, 1.00574708, 1.0232082 , 1.02903147],\n",
       "         ...,\n",
       "         [1.        , 0.97265719, 0.98300586, 1.00481171, 0.9979613 ],\n",
       "         [1.        , 0.98977176, 0.99870337, 1.00145742, 0.99530134],\n",
       "         [1.        , 1.01193408, 1.0042194 , 0.99168404, 0.99856322]],\n",
       "\n",
       "        [[1.        , 0.96868825, 1.00105532, 1.        , 1.01250337],\n",
       "         [1.        , 0.98089952, 1.01174697, 1.02642281, 1.01872266],\n",
       "         [1.        , 1.00765577, 1.01101515, 1.00572054, 1.03467148],\n",
       "         ...,\n",
       "         [1.        , 0.97734276, 0.98412698, 0.99566915, 1.00122103],\n",
       "         [1.        , 0.99711038, 1.0009677 , 1.00062143, 0.99369916],\n",
       "         [1.        , 1.01376537, 0.99742187, 0.98820121, 0.99570466]],\n",
       "\n",
       "        [[1.        , 0.9587125 , 0.99331202, 0.98371334, 1.01013973],\n",
       "         [1.        , 1.00681803, 1.01071162, 1.0286188 , 1.02021158],\n",
       "         [1.        , 0.98954225, 1.00454194, 1.01747524, 1.03683027],\n",
       "         ...,\n",
       "         [1.        , 0.98566283, 0.99599789, 1.00568901, 0.99836497],\n",
       "         [1.        , 0.99070142, 1.00271503, 0.99580975, 0.98894581],\n",
       "         [1.        , 1.01696164, 0.99859195, 0.99137387, 0.99772303]],\n",
       "\n",
       "        [[1.        , 0.98288623, 1.00379018, 1.02362753, 1.02899744],\n",
       "         [1.        , 1.00234393, 1.00709864, 1.02466622, 1.01688152],\n",
       "         [1.        , 0.99507266, 1.014997  , 0.99227035, 1.03359477],\n",
       "         ...,\n",
       "         [1.        , 0.99022101, 0.99568219, 0.99917122, 1.00265417],\n",
       "         [1.        , 0.99117785, 1.00520385, 0.99004563, 0.98696804],\n",
       "         [1.        , 1.01720356, 0.99924504, 0.99413484, 0.99773054]]],\n",
       "\n",
       "\n",
       "       ...,\n",
       "\n",
       "\n",
       "       [[[1.        , 0.97167789, 0.9987929 , 0.98204543, 1.01306047],\n",
       "         [1.        , 0.96823975, 0.99894244, 1.0171257 , 1.00717705],\n",
       "         [1.        , 0.99198914, 1.00574708, 1.0232082 , 1.02903147],\n",
       "         ...,\n",
       "         [1.        , 0.97265719, 0.98300586, 1.00481171, 0.9979613 ],\n",
       "         [1.        , 0.98977176, 0.99870337, 1.00145742, 0.99530134],\n",
       "         [1.        , 1.01193408, 1.0042194 , 0.99168404, 0.99856322]],\n",
       "\n",
       "        [[1.        , 0.96868825, 1.00105532, 1.        , 1.01250337],\n",
       "         [1.        , 0.98089952, 1.01174697, 1.02642281, 1.01872266],\n",
       "         [1.        , 1.00765577, 1.01101515, 1.00572054, 1.03467148],\n",
       "         ...,\n",
       "         [1.        , 0.97734276, 0.98412698, 0.99566915, 1.00122103],\n",
       "         [1.        , 0.99711038, 1.0009677 , 1.00062143, 0.99369916],\n",
       "         [1.        , 1.01376537, 0.99742187, 0.98820121, 0.99570466]],\n",
       "\n",
       "        [[1.        , 0.9587125 , 0.99331202, 0.98371334, 1.01013973],\n",
       "         [1.        , 1.00681803, 1.01071162, 1.0286188 , 1.02021158],\n",
       "         [1.        , 0.98954225, 1.00454194, 1.01747524, 1.03683027],\n",
       "         ...,\n",
       "         [1.        , 0.98566283, 0.99599789, 1.00568901, 0.99836497],\n",
       "         [1.        , 0.99070142, 1.00271503, 0.99580975, 0.98894581],\n",
       "         [1.        , 1.01696164, 0.99859195, 0.99137387, 0.99772303]],\n",
       "\n",
       "        [[1.        , 0.98288623, 1.00379018, 1.02362753, 1.02899744],\n",
       "         [1.        , 1.00234393, 1.00709864, 1.02466622, 1.01688152],\n",
       "         [1.        , 0.99507266, 1.014997  , 0.99227035, 1.03359477],\n",
       "         ...,\n",
       "         [1.        , 0.99022101, 0.99568219, 0.99917122, 1.00265417],\n",
       "         [1.        , 0.99117785, 1.00520385, 0.99004563, 0.98696804],\n",
       "         [1.        , 1.01720356, 0.99924504, 0.99413484, 0.99773054]]],\n",
       "\n",
       "\n",
       "       [[[1.        , 0.97167789, 0.9987929 , 0.98204543, 1.01306047],\n",
       "         [1.        , 0.96823975, 0.99894244, 1.0171257 , 1.00717705],\n",
       "         [1.        , 0.99198914, 1.00574708, 1.0232082 , 1.02903147],\n",
       "         ...,\n",
       "         [1.        , 0.97265719, 0.98300586, 1.00481171, 0.9979613 ],\n",
       "         [1.        , 0.98977176, 0.99870337, 1.00145742, 0.99530134],\n",
       "         [1.        , 1.01193408, 1.0042194 , 0.99168404, 0.99856322]],\n",
       "\n",
       "        [[1.        , 0.96868825, 1.00105532, 1.        , 1.01250337],\n",
       "         [1.        , 0.98089952, 1.01174697, 1.02642281, 1.01872266],\n",
       "         [1.        , 1.00765577, 1.01101515, 1.00572054, 1.03467148],\n",
       "         ...,\n",
       "         [1.        , 0.97734276, 0.98412698, 0.99566915, 1.00122103],\n",
       "         [1.        , 0.99711038, 1.0009677 , 1.00062143, 0.99369916],\n",
       "         [1.        , 1.01376537, 0.99742187, 0.98820121, 0.99570466]],\n",
       "\n",
       "        [[1.        , 0.9587125 , 0.99331202, 0.98371334, 1.01013973],\n",
       "         [1.        , 1.00681803, 1.01071162, 1.0286188 , 1.02021158],\n",
       "         [1.        , 0.98954225, 1.00454194, 1.01747524, 1.03683027],\n",
       "         ...,\n",
       "         [1.        , 0.98566283, 0.99599789, 1.00568901, 0.99836497],\n",
       "         [1.        , 0.99070142, 1.00271503, 0.99580975, 0.98894581],\n",
       "         [1.        , 1.01696164, 0.99859195, 0.99137387, 0.99772303]],\n",
       "\n",
       "        [[1.        , 0.98288623, 1.00379018, 1.02362753, 1.02899744],\n",
       "         [1.        , 1.00234393, 1.00709864, 1.02466622, 1.01688152],\n",
       "         [1.        , 0.99507266, 1.014997  , 0.99227035, 1.03359477],\n",
       "         ...,\n",
       "         [1.        , 0.99022101, 0.99568219, 0.99917122, 1.00265417],\n",
       "         [1.        , 0.99117785, 1.00520385, 0.99004563, 0.98696804],\n",
       "         [1.        , 1.01720356, 0.99924504, 0.99413484, 0.99773054]]],\n",
       "\n",
       "\n",
       "       [[[1.        , 1.03150568, 1.00181399, 1.06925877, 1.02995418],\n",
       "         [1.        , 0.97167789, 0.9987929 , 0.98204543, 1.01306047],\n",
       "         [1.        , 0.96823975, 0.99894244, 1.0171257 , 1.00717705],\n",
       "         ...,\n",
       "         [1.        , 0.9867005 , 0.99978765, 1.0018864 , 1.00020388],\n",
       "         [1.        , 0.97265719, 0.98300586, 1.00481171, 0.9979613 ],\n",
       "         [1.        , 0.98977176, 0.99870337, 1.00145742, 0.99530134]],\n",
       "\n",
       "        [[1.        , 1.01500805, 1.00150987, 1.01396841, 1.00854234],\n",
       "         [1.        , 0.96868825, 1.00105532, 1.        , 1.01250337],\n",
       "         [1.        , 0.98089952, 1.01174697, 1.02642281, 1.01872266],\n",
       "         ...,\n",
       "         [1.        , 0.98445601, 0.99820431, 1.00455772, 0.99857753],\n",
       "         [1.        , 0.97734276, 0.98412698, 0.99566915, 1.00122103],\n",
       "         [1.        , 0.99711038, 1.0009677 , 1.00062143, 0.99369916]],\n",
       "\n",
       "        [[1.        , 0.99326108, 1.00259065, 1.05446519, 1.01487971],\n",
       "         [1.        , 0.9587125 , 0.99331202, 0.98371334, 1.01013973],\n",
       "         [1.        , 1.00681803, 1.01071162, 1.0286188 , 1.02021158],\n",
       "         ...,\n",
       "         [1.        , 0.99297925, 0.9852925 , 1.00295857, 1.00040892],\n",
       "         [1.        , 0.98566283, 0.99599789, 1.00568901, 0.99836497],\n",
       "         [1.        , 0.99070142, 1.00271503, 0.99580975, 0.98894581]],\n",
       "\n",
       "        [[1.        , 0.98158618, 0.99682637, 0.99127437, 0.99768016],\n",
       "         [1.        , 0.98288623, 1.00379018, 1.02362753, 1.02899744],\n",
       "         [1.        , 1.00234393, 1.00709864, 1.02466622, 1.01688152],\n",
       "         ...,\n",
       "         [1.        , 0.98282817, 0.98135591, 1.00772602, 0.99979583],\n",
       "         [1.        , 0.99022101, 0.99568219, 0.99917122, 1.00265417],\n",
       "         [1.        , 0.99117785, 1.00520385, 0.99004563, 0.98696804]]]])"
      ]
     },
     "execution_count": 486,
     "metadata": {},
     "output_type": "execute_result"
    }
   ],
   "source": [
    "S_[0]"
   ]
  },
  {
   "cell_type": "code",
   "execution_count": 413,
   "metadata": {},
   "outputs": [
    {
     "data": {
      "text/plain": [
       "(10, 4, 2417, 5)"
      ]
     },
     "execution_count": 413,
     "metadata": {},
     "output_type": "execute_result"
    }
   ],
   "source": [
    "np.stack(S_[:,0], axis=0).shape"
   ]
  }
 ],
 "metadata": {
  "kernelspec": {
   "display_name": "Python 3",
   "language": "python",
   "name": "python3"
  },
  "language_info": {
   "codemirror_mode": {
    "name": "ipython",
    "version": 3
   },
   "file_extension": ".py",
   "mimetype": "text/x-python",
   "name": "python",
   "nbconvert_exporter": "python",
   "pygments_lexer": "ipython3",
   "version": "3.6.6"
  },
  "latex_envs": {
   "LaTeX_envs_menu_present": true,
   "autoclose": false,
   "autocomplete": true,
   "bibliofile": "biblio.bib",
   "cite_by": "apalike",
   "current_citInitial": 1,
   "eqLabelWithNumbers": true,
   "eqNumInitial": 1,
   "hotkeys": {
    "equation": "Ctrl-E",
    "itemize": "Ctrl-I"
   },
   "labels_anchors": false,
   "latex_user_defs": false,
   "report_style_numbering": false,
   "user_envs_cfg": false
  },
  "toc": {
   "base_numbering": 1,
   "nav_menu": {
    "height": "78px",
    "width": "164px"
   },
   "number_sections": true,
   "sideBar": true,
   "skip_h1_title": false,
   "title_cell": "Table of Contents",
   "title_sidebar": "Contents",
   "toc_cell": false,
   "toc_position": {},
   "toc_section_display": true,
   "toc_window_display": false
  }
 },
 "nbformat": 4,
 "nbformat_minor": 2
}
