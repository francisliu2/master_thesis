{
 "cells": [
  {
   "cell_type": "code",
   "execution_count": 1,
   "metadata": {},
   "outputs": [
    {
     "name": "stderr",
     "output_type": "stream",
     "text": [
      "C:\\Users\\user\\Anaconda3\\lib\\site-packages\\h5py\\__init__.py:36: FutureWarning: Conversion of the second argument of issubdtype from `float` to `np.floating` is deprecated. In future, it will be treated as `np.float64 == np.dtype(float).type`.\n",
      "  from ._conv import register_converters as _register_converters\n"
     ]
    }
   ],
   "source": [
    "import numpy as np\n",
    "import math\n",
    "import sys\n",
    "# import myenv\n",
    "sys.path.append('../src/features/')\n",
    "sys.path.append('../src/data/')\n",
    "import data_preprocessing_from_yahoo_finance as dp\n",
    "import myenv\n",
    "from tqdm import tqdm\n",
    "import matplotlib.pyplot as plt\n",
    "import tensorflow as tf\n",
    "from numba import cuda\n",
    "from agent_a3c import Agent, Memory\n",
    "import pandas as pd\n",
    "tf.reset_default_graph()\n",
    "sess = tf.InteractiveSession()"
   ]
  },
  {
   "cell_type": "code",
   "execution_count": 2,
   "metadata": {},
   "outputs": [],
   "source": [
    "symbols = pd.read_csv('../data/raw/nasdaq100list.csv')['Symbol']\n",
    "problem_ticker = ['QRTEA']\n",
    "symbols = symbols[~symbols.isin(problem_ticker)]\n",
    "s = list(symbols.sample(2))"
   ]
  },
  {
   "cell_type": "code",
   "execution_count": 3,
   "metadata": {},
   "outputs": [
    {
     "name": "stdout",
     "output_type": "stream",
     "text": [
      "working on PG\n",
      "working on AAPL\n",
      "working on HSBC\n"
     ]
    }
   ],
   "source": [
    "# Create environment\n",
    "result_np = dp.data_preprocessing_1(ticker_list_input=['PG','AAPL'], path='../data/raw/')\n",
    "c = myenv.myenv(result_np)\n",
    "\n",
    "# Create testing environment\n",
    "testing_result_np =  dp.data_preprocessing_1(ticker_list_input=['HSBC'], path='../data/raw/')\n",
    "c_testing = myenv.myenv(testing_result_np, initial_weight=[1/2,1/2])"
   ]
  },
  {
   "cell_type": "code",
   "execution_count": 4,
   "metadata": {},
   "outputs": [],
   "source": [
    "actor = Agent(no_of_stocks = 1, no_of_trading_days=2000,lr=0.05, scope='local', sess = sess, entropy_param = 0.3, clip=False)\n",
    "global_net = Agent(no_of_stocks = 1, no_of_trading_days=2000,lr=0.05, scope='global', sess = sess, entropy_param = 0.3, clip=False)"
   ]
  },
  {
   "cell_type": "code",
   "execution_count": 5,
   "metadata": {
    "scrolled": true
   },
   "outputs": [],
   "source": [
    "actor_grads = tf.gradients(actor.actor_loss, actor.actor_params)\n",
    "critic_grads = tf.gradients(actor.critic_loss, actor.critic_params)\n",
    "actor_grads_clip = [tf.clip_by_value(grad, -1., 1.) for grad in actor_grads]\n",
    "critic_grads_clip = [tf.clip_by_value(grad, -10., 10.) for grad in critic_grads]"
   ]
  },
  {
   "cell_type": "code",
   "execution_count": 6,
   "metadata": {},
   "outputs": [],
   "source": [
    "train_actor = global_net.OPT_A.apply_gradients(zip(actor_grads_clip, global_net.actor_params))\n",
    "train_critic = global_net.OPT_C.apply_gradients(zip(critic_grads_clip, global_net.critic_params))\n",
    "pull_a_params_op = [tf.assign(actor_ap,global_ap) for actor_ap, global_ap in zip(actor.actor_params, global_net.actor_params)]\n",
    "pull_c_params_op = [tf.assign(actor_cp, global_cp) for actor_cp, global_cp in zip(actor.critic_params, global_net.critic_params)]\n",
    "# sess.run(train_actor)"
   ]
  },
  {
   "cell_type": "code",
   "execution_count": 7,
   "metadata": {
    "scrolled": true
   },
   "outputs": [
    {
     "name": "stdout",
     "output_type": "stream",
     "text": [
      "Iter: 0\n",
      "working on SYMC\n",
      "Iter: 1\n",
      "working on CTSH\n",
      "Iter: 2\n",
      "working on XEL\n",
      "Iter: 3\n",
      "working on BMRN\n",
      "Iter: 4\n",
      "working on XLNX\n",
      "Iter: 5\n",
      "working on ASML\n",
      "Iter: 6\n",
      "working on NTES\n",
      "Iter: 7\n",
      "working on CTSH\n",
      "Iter: 8\n",
      "working on FOXA\n",
      "Iter: 9\n",
      "working on MYL\n",
      "Iter: 10\n",
      "working on GOOGL\n",
      "Iter: 11\n",
      "working on NFLX\n",
      "Iter: 12\n",
      "working on BMRN\n",
      "Iter: 13\n",
      "working on MAR\n",
      "Iter: 14\n",
      "working on TXN\n",
      "Iter: 15\n",
      "working on CMCSA\n",
      "Iter: 16\n",
      "working on CMCSA\n",
      "Iter: 17\n",
      "working on ILMN\n",
      "Iter: 18\n",
      "working on TSLA\n",
      "Iter: 19\n",
      "working on LBTYK\n",
      "Iter: 20\n",
      "working on MELI\n",
      "Iter: 21\n",
      "working on MSFT\n",
      "Iter: 22\n",
      "working on QCOM\n",
      "Iter: 23\n",
      "working on BIDU\n",
      "Iter: 24\n",
      "working on BIDU\n",
      "Iter: 25\n",
      "working on WYNN\n",
      "Iter: 26\n",
      "working on WDAY\n",
      "Iter: 27\n",
      "working on ROST\n",
      "Iter: 28\n",
      "working on INCY\n",
      "Iter: 29\n",
      "working on QCOM\n",
      "Iter: 30\n",
      "working on AMZN\n",
      "AMZN is not in raw data folder\n",
      "The downloaded price data has shape(2518, 8)\n",
      "AMZN's price data is saved.\n",
      "Iter: 31\n",
      "working on LRCX\n",
      "Iter: 32\n",
      "working on MNST\n",
      "Iter: 33\n",
      "working on VOD\n",
      "Iter: 34\n",
      "working on CTAS\n",
      "Iter: 35\n",
      "working on KHC\n",
      "Iter: 36\n",
      "working on JBHT\n",
      "Iter: 37\n",
      "working on MXIM\n",
      "Iter: 38\n",
      "working on MXIM\n",
      "Iter: 39\n",
      "working on ESRX\n",
      "Iter: 40\n",
      "working on ALGN\n",
      "Iter: 41\n",
      "working on LRCX\n",
      "Iter: 42\n",
      "working on GOOGL\n",
      "Iter: 43\n",
      "working on VOD\n",
      "Iter: 44\n",
      "working on MNST\n",
      "Iter: 45\n",
      "working on CHTR\n",
      "Iter: 46\n",
      "working on ADP\n",
      "Iter: 47\n",
      "working on MCHP\n",
      "Iter: 48\n",
      "working on PAYX\n",
      "Iter: 49\n",
      "working on EA\n",
      "sharpe ratio: -0.05184979880977674\n"
     ]
    },
    {
     "data": {
      "image/png": "[encoded data removed]",
      "text/plain": [
       "<Figure size 432x288 with 1 Axes>"
      ]
     },
     "metadata": {
      "needs_background": "light"
     },
     "output_type": "display_data"
    }
   ],
   "source": [
    "# Main Loop\n",
    "# target_state_value = []\n",
    "# for T in tqdm(range(3)):\n",
    "for T in range(50):\n",
    "    print('Iter:', T)\n",
    "    s = list(symbols.sample(1))\n",
    "    result_np = dp.data_preprocessing_1(ticker_list_input=s, path='../data/raw/')\n",
    "    c = myenv.myenv(result_np, initial_weight=[1/2,1/2], reward_type='log_return')\n",
    "    if c.all_prices.shape[1] < 2100: pass\n",
    "    sess.run(tf.initializers.global_variables())\n",
    "    price_tensor, weight,reward,done = c.reset()\n",
    "    for i in (range(c.total_steps)):\n",
    "        if price_tensor.shape[1] != 2000: break \n",
    "        action = sess.run(actor.new_weight, {actor.price_tensor:[price_tensor],\n",
    "                                             actor.weight:[weight]})\n",
    "        price_tensor, weight, reward, done = c.step(action[0])\n",
    "        \n",
    "        next_state_value = sess.run(global_net.state_value, {global_net.price_tensor:[price_tensor],\n",
    "                                                             global_net.weight:[weight]})\n",
    "#         print(reward)\n",
    "        if done:\n",
    "            target_state_value = np.array([reward])\n",
    "        else:\n",
    "            target_state_value = reward + 0.99*next_state_value[0]\n",
    "        if i%1==0:\n",
    "            sess.run(train_critic, {actor.price_tensor:[price_tensor], actor.weight:[weight],\n",
    "                           actor.state_value_target:[target_state_value]})\n",
    "            sess.run(train_actor, {actor.price_tensor:[price_tensor], actor.weight:[weight],\n",
    "                            actor.state_value_target:[target_state_value]})\n",
    "#         print(i, 'is done')\n",
    "#         print(sess.run(global_net.critic_loss,{global_net.price_tensor:[price_tensor], global_net.weight:[weight],\n",
    "#                                global_net.state_value_target:[target_state_value]}))\n",
    "    sess.run([pull_a_params_op, pull_c_params_op])\n",
    "\n",
    "c.end_game()\n",
    "print('sharpe ratio:', c.sharpe_ratio)\n",
    "p1,p2 = c.render_psize()\n",
    "plt.show()"
   ]
  },
  {
   "cell_type": "code",
   "execution_count": 8,
   "metadata": {},
   "outputs": [
    {
     "name": "stdout",
     "output_type": "stream",
     "text": [
      "-0.05184979880977674\n"
     ]
    },
    {
     "data": {
      "text/plain": [
       "[<matplotlib.lines.Line2D at 0x24224367320>,\n",
       " <matplotlib.lines.Line2D at 0x24224367470>]"
      ]
     },
     "execution_count": 8,
     "metadata": {},
     "output_type": "execute_result"
    },
    {
     "data": {
      "image/png": "[encoded data removed]",
      "text/plain": [
       "<Figure size 432x288 with 1 Axes>"
      ]
     },
     "metadata": {
      "needs_background": "light"
     },
     "output_type": "display_data"
    }
   ],
   "source": [
    "c.end_game()\n",
    "print(c.sharpe_ratio)\n",
    "c.render_weights(include_start=False)"
   ]
  },
  {
   "cell_type": "code",
   "execution_count": 9,
   "metadata": {},
   "outputs": [
    {
     "data": {
      "text/plain": [
       "100"
      ]
     },
     "execution_count": 9,
     "metadata": {},
     "output_type": "execute_result"
    }
   ],
   "source": [
    "c.all_prices.shape\n",
    "c.total_steps\n",
    "min(c.total_steps,c.all_prices_normalized.shape[1] - c.price_window)"
   ]
  },
  {
   "cell_type": "code",
   "execution_count": 10,
   "metadata": {
    "scrolled": true
   },
   "outputs": [
    {
     "data": {
      "text/plain": [
       "array([0., 1.])"
      ]
     },
     "execution_count": 10,
     "metadata": {},
     "output_type": "execute_result"
    }
   ],
   "source": [
    "actiona = sess.run(actor.new_weight, {actor.price_tensor:[price_tensor], actor.weight:[[0.5,0.5]]})\n",
    "actiong = sess.run(global_net.new_weight, {global_net.price_tensor:[price_tensor], global_net.weight:[[0.5,0.5]]})\n",
    "actiona[0] == actiong[0]\n",
    "actiong[0]"
   ]
  },
  {
   "cell_type": "code",
   "execution_count": 11,
   "metadata": {},
   "outputs": [
    {
     "data": {
      "text/plain": [
       "(4, 2000, 2)"
      ]
     },
     "execution_count": 11,
     "metadata": {},
     "output_type": "execute_result"
    }
   ],
   "source": [
    "price_tensor.shape"
   ]
  },
  {
   "cell_type": "code",
   "execution_count": 12,
   "metadata": {},
   "outputs": [
    {
     "data": {
      "text/plain": [
       "array([[1.13855743e+08]])"
      ]
     },
     "execution_count": 12,
     "metadata": {},
     "output_type": "execute_result"
    }
   ],
   "source": [
    "# target_state_value\n",
    "next_state_value = sess.run(actor.state_value, {actor.price_tensor:[price_tensor], actor.weight:[weight]})\n",
    "# 0.99*next_state_value[0]\n",
    "next_state_value"
   ]
  },
  {
   "cell_type": "code",
   "execution_count": 13,
   "metadata": {},
   "outputs": [],
   "source": [
    "# n = 2417\n",
    "# price_tensor = c.all_prices_normalized[:,-n-100:-100,:]\n",
    "# price_tensor.shape"
   ]
  },
  {
   "cell_type": "code",
   "execution_count": 14,
   "metadata": {},
   "outputs": [
    {
     "data": {
      "text/plain": [
       "array([0., 1.])"
      ]
     },
     "execution_count": 14,
     "metadata": {},
     "output_type": "execute_result"
    }
   ],
   "source": [
    "action = sess.run(actor.new_weight, {actor.price_tensor:[price_tensor], actor.weight:[[1/2,1/2]]})\n",
    "action[0]"
   ]
  },
  {
   "cell_type": "code",
   "execution_count": 15,
   "metadata": {},
   "outputs": [
    {
     "data": {
      "image/png": "[encoded data removed]",
      "text/plain": [
       "<Figure size 432x288 with 1 Axes>"
      ]
     },
     "metadata": {
      "needs_background": "light"
     },
     "output_type": "display_data"
    }
   ],
   "source": [
    "p1, p2 = c.render_psize()\n",
    "plt.show()"
   ]
  },
  {
   "cell_type": "code",
   "execution_count": 16,
   "metadata": {},
   "outputs": [
    {
     "data": {
      "text/plain": [
       "array([[1.13855743e+08]])"
      ]
     },
     "execution_count": 16,
     "metadata": {},
     "output_type": "execute_result"
    }
   ],
   "source": [
    "next_state_value = sess.run(actor.state_value, {actor.price_tensor:[price_tensor], actor.weight:[weight]})\n",
    "next_state_value"
   ]
  },
  {
   "cell_type": "code",
   "execution_count": 17,
   "metadata": {},
   "outputs": [
    {
     "data": {
      "text/plain": [
       "array([[1.13855743e+08]])"
      ]
     },
     "execution_count": 17,
     "metadata": {},
     "output_type": "execute_result"
    }
   ],
   "source": [
    "next_state_value = sess.run(global_net.state_value, {global_net.price_tensor:[price_tensor], global_net.weight:[weight]})\n",
    "next_state_value"
   ]
  },
  {
   "cell_type": "code",
   "execution_count": 18,
   "metadata": {},
   "outputs": [
    {
     "name": "stderr",
     "output_type": "stream",
     "text": [
      " 98%|█████████▊| 98/100 [00:00<00:00, 190.11it/s]\n"
     ]
    }
   ],
   "source": [
    "c_testing = myenv.myenv(testing_result_np, initial_weight=[1/2,1/2])\n",
    "price_tensor, weight,_,done = c_testing.reset()\n",
    "for i in tqdm(range(c_testing.total_steps)):\n",
    "#     action = sess.run(global_net.new_weight, {global_net.price_tensor:[price_tensor], global_net.weight:[weight]})\n",
    "    action = sess.run(actor.new_weight, {actor.price_tensor:[price_tensor], actor.weight:[weight]})\n",
    "    price_tensor, weight, reward, done = c_testing.step(action[0])\n",
    "    if done: break\n",
    "c_testing.end_game()        "
   ]
  },
  {
   "cell_type": "code",
   "execution_count": 19,
   "metadata": {},
   "outputs": [
    {
     "name": "stdout",
     "output_type": "stream",
     "text": [
      "-0.09560361200735545\n"
     ]
    },
    {
     "data": {
      "text/plain": [
       "([<matplotlib.lines.Line2D at 0x2422a67bbe0>],\n",
       " [<matplotlib.lines.Line2D at 0x2422a6840f0>,\n",
       "  <matplotlib.lines.Line2D at 0x2422a6842b0>])"
      ]
     },
     "execution_count": 19,
     "metadata": {},
     "output_type": "execute_result"
    },
    {
     "data": {
      "image/png": "[encoded data removed]",
      "text/plain": [
       "<Figure size 432x288 with 1 Axes>"
      ]
     },
     "metadata": {
      "needs_background": "light"
     },
     "output_type": "display_data"
    }
   ],
   "source": [
    "print(c_testing.sharpe_ratio)\n",
    "c_testing.render_psize()"
   ]
  },
  {
   "cell_type": "code",
   "execution_count": 20,
   "metadata": {},
   "outputs": [
    {
     "data": {
      "text/plain": [
       "[<matplotlib.lines.Line2D at 0x2422bea9278>,\n",
       " <matplotlib.lines.Line2D at 0x2422bea93c8>]"
      ]
     },
     "execution_count": 20,
     "metadata": {},
     "output_type": "execute_result"
    },
    {
     "data": {
      "image/png": "[encoded data removed]",
      "text/plain": [
       "<Figure size 432x288 with 1 Axes>"
      ]
     },
     "metadata": {
      "needs_background": "light"
     },
     "output_type": "display_data"
    }
   ],
   "source": [
    "c_testing.render_weights(include_start=False)"
   ]
  },
  {
   "cell_type": "code",
   "execution_count": 21,
   "metadata": {},
   "outputs": [
    {
     "name": "stdout",
     "output_type": "stream",
     "text": [
      "working on WDAY\n"
     ]
    },
    {
     "name": "stderr",
     "output_type": "stream",
     "text": [
      "0it [00:00, ?it/s]\n",
      "C:\\Users\\user\\AppData\\Roaming\\Python\\Python36\\site-packages\\numpy\\core\\fromnumeric.py:2920: RuntimeWarning: Mean of empty slice.\n",
      "  out=out, **kwargs)\n",
      "C:\\Users\\user\\AppData\\Roaming\\Python\\Python36\\site-packages\\numpy\\core\\_methods.py:85: RuntimeWarning: invalid value encountered in double_scalars\n",
      "  ret = ret.dtype.type(ret / rcount)\n",
      "C:\\Users\\user\\AppData\\Roaming\\Python\\Python36\\site-packages\\numpy\\core\\_methods.py:140: RuntimeWarning: Degrees of freedom <= 0 for slice\n",
      "  keepdims=keepdims)\n",
      "C:\\Users\\user\\AppData\\Roaming\\Python\\Python36\\site-packages\\numpy\\core\\_methods.py:110: RuntimeWarning: invalid value encountered in true_divide\n",
      "  arrmean, rcount, out=arrmean, casting='unsafe', subok=False)\n",
      "C:\\Users\\user\\AppData\\Roaming\\Python\\Python36\\site-packages\\numpy\\core\\_methods.py:132: RuntimeWarning: invalid value encountered in double_scalars\n",
      "  ret = ret.dtype.type(ret / rcount)\n"
     ]
    },
    {
     "data": {
      "text/plain": [
       "([<matplotlib.lines.Line2D at 0x242312515c0>],\n",
       " [<matplotlib.lines.Line2D at 0x24231251a58>,\n",
       "  <matplotlib.lines.Line2D at 0x24231251be0>])"
      ]
     },
     "execution_count": 21,
     "metadata": {},
     "output_type": "execute_result"
    },
    {
     "data": {
      "image/png": "[encoded data removed]",
      "text/plain": [
       "<Figure size 432x288 with 1 Axes>"
      ]
     },
     "metadata": {
      "needs_background": "light"
     },
     "output_type": "display_data"
    }
   ],
   "source": [
    "s = list(symbols.sample(1))\n",
    "testing_result_np =  dp.data_preprocessing_1(ticker_list_input=s, path='../data/raw/')\n",
    "c = myenv.myenv(testing_result_np, initial_weight=[1/2,1/2])\n",
    "price_tensor, weight,_,done = c.reset()\n",
    "for i in tqdm(range(c.total_steps)):\n",
    "#     action = sess.run(global_net.new_weight, {global_net.price_tensor:[price_tensor], global_net.weight:[weight]})\n",
    "    action = sess.run(actor.new_weight, {actor.price_tensor:[price_tensor], actor.weight:[weight]})\n",
    "#     print(action)\n",
    "    price_tensor, weight, reward, done = c.step(action[0])\n",
    "    if done: break\n",
    "c.end_game() \n",
    "c.render_psize()"
   ]
  },
  {
   "cell_type": "code",
   "execution_count": 22,
   "metadata": {},
   "outputs": [
    {
     "data": {
      "text/plain": [
       "[<matplotlib.lines.Line2D at 0x24231200f98>,\n",
       " <matplotlib.lines.Line2D at 0x24231208128>]"
      ]
     },
     "execution_count": 22,
     "metadata": {},
     "output_type": "execute_result"
    },
    {
     "data": {
      "image/png": "[encoded data removed]",
      "text/plain": [
       "<Figure size 432x288 with 1 Axes>"
      ]
     },
     "metadata": {
      "needs_background": "light"
     },
     "output_type": "display_data"
    }
   ],
   "source": [
    "c.render_weights(include_start=False)"
   ]
  },
  {
   "cell_type": "code",
   "execution_count": null,
   "metadata": {},
   "outputs": [],
   "source": []
  }
 ],
 "metadata": {
  "kernelspec": {
   "display_name": "Python 3",
   "language": "python",
   "name": "python3"
  },
  "language_info": {
   "codemirror_mode": {
    "name": "ipython",
    "version": 3
   },
   "file_extension": ".py",
   "mimetype": "text/x-python",
   "name": "python",
   "nbconvert_exporter": "python",
   "pygments_lexer": "ipython3",
   "version": "3.6.6"
  },
  "latex_envs": {
   "LaTeX_envs_menu_present": true,
   "autoclose": false,
   "autocomplete": true,
   "bibliofile": "biblio.bib",
   "cite_by": "apalike",
   "current_citInitial": 1,
   "eqLabelWithNumbers": true,
   "eqNumInitial": 1,
   "hotkeys": {
    "equation": "Ctrl-E",
    "itemize": "Ctrl-I"
   },
   "labels_anchors": false,
   "latex_user_defs": false,
   "report_style_numbering": false,
   "user_envs_cfg": false
  },
  "toc": {
   "base_numbering": 1,
   "nav_menu": {},
   "number_sections": true,
   "sideBar": true,
   "skip_h1_title": false,
   "title_cell": "Table of Contents",
   "title_sidebar": "Contents",
   "toc_cell": false,
   "toc_position": {},
   "toc_section_display": true,
   "toc_window_display": false
  }
 },
 "nbformat": 4,
 "nbformat_minor": 2
}
